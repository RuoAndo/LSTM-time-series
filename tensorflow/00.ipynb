{
 "cells": [
  {
   "cell_type": "code",
   "execution_count": 6,
   "metadata": {},
   "outputs": [
    {
     "name": "stdout",
     "output_type": "stream",
     "text": [
      "9\n",
      "18\n",
      "27\n"
     ]
    }
   ],
   "source": [
    "#-*- coding:utf-8 -*-\n",
    "\n",
    "import tensorflow as tf\n",
    "tf.compat.v1.disable_eager_execution()\n",
    "\n",
    "a = tf.constant(3, name='const1') #定数a\n",
    "b = tf.Variable(0, name='val1') #変数b\n",
    "\n",
    "# aとbを足す\n",
    "add = tf.add(a,b)\n",
    "#変数bに足した結果をアサイン\n",
    "assign = tf.compat.v1.assign(b, add)\n",
    "c = tf.compat.v1.placeholder(tf.int32, name='input') #入力c\n",
    "# アサインした結果とcを掛け算\n",
    "mul = tf.multiply(assign, c)\n",
    "#変数の初期化\n",
    "init = tf.compat.v1.global_variables_initializer()\n",
    "\n",
    "with tf.compat.v1.Session() as sess:\n",
    "    #初期化を実行\n",
    "    sess.run(init)\n",
    "    for i in range(3):\n",
    "        # 掛け算を計算するまでのループを実行\n",
    "        print(sess.run(mul, feed_dict={c:3}))"
   ]
  },
  {
   "cell_type": "code",
   "execution_count": null,
   "metadata": {},
   "outputs": [],
   "source": []
  }
 ],
 "metadata": {
  "kernelspec": {
   "display_name": "Python 3",
   "language": "python",
   "name": "python3"
  }
 },
 "nbformat": 4,
 "nbformat_minor": 4
}
