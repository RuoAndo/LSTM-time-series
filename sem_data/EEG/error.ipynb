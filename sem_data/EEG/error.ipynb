{
 "cells": [
  {
   "cell_type": "code",
   "execution_count": 4,
   "metadata": {},
   "outputs": [],
   "source": [
    "import matplotlib.pyplot as plt\n",
    "#plt.rcParams['figure.figsize'] = [10, 10]\n",
    "import cesium\n",
    "import xgboost as xgb\n",
    "import numpy as np\n",
    "import matplotlib.pyplot as plt\n",
    "import pandas as pd\n",
    "import time\n",
    "\n",
    "from cesium import datasets\n",
    "#from cesium import featurize as ft\n",
    "\n",
    "import scipy\n",
    "from scipy.stats import pearsonr, spearmanr\n",
    "from scipy.stats import skew\n",
    "\n",
    "import sklearn\n",
    "from sklearn.ensemble import RandomForestClassifier\n",
    "from sklearn.metrics import accuracy_score\n",
    "from sklearn.model_selection import train_test_split"
   ]
  },
  {
   "cell_type": "code",
   "execution_count": 9,
   "metadata": {},
   "outputs": [
    {
     "name": "stderr",
     "output_type": "stream",
     "text": [
      "Downloading data from https://github.com/cesium-ml/cesium-data/raw/main/andrzejak/\n"
     ]
    }
   ],
   "source": [
    "eeg = datasets.fetch_andrzejak()"
   ]
  },
  {
   "cell_type": "code",
   "execution_count": 10,
   "metadata": {},
   "outputs": [
    {
     "data": {
      "text/html": [
       "<div>\n",
       "<style scoped>\n",
       "    .dataframe tbody tr th:only-of-type {\n",
       "        vertical-align: middle;\n",
       "    }\n",
       "\n",
       "    .dataframe tbody tr th {\n",
       "        vertical-align: top;\n",
       "    }\n",
       "\n",
       "    .dataframe thead tr th {\n",
       "        text-align: left;\n",
       "    }\n",
       "</style>\n",
       "<table border=\"1\" class=\"dataframe\">\n",
       "  <thead>\n",
       "    <tr>\n",
       "      <th></th>\n",
       "      <th>feature</th>\n",
       "      <th>amplitude</th>\n",
       "      <th>percent_beyond_1_std</th>\n",
       "      <th>percent_close_to_median</th>\n",
       "      <th>skew</th>\n",
       "      <th>max_slope</th>\n",
       "    </tr>\n",
       "    <tr>\n",
       "      <th></th>\n",
       "      <th>channel</th>\n",
       "      <th>0</th>\n",
       "      <th>0</th>\n",
       "      <th>0</th>\n",
       "      <th>0</th>\n",
       "      <th>0</th>\n",
       "    </tr>\n",
       "  </thead>\n",
       "  <tbody>\n",
       "    <tr>\n",
       "      <th>0</th>\n",
       "      <td>0</td>\n",
       "      <td>143.5</td>\n",
       "      <td>0.327313</td>\n",
       "      <td>0.505004</td>\n",
       "      <td>0.032805</td>\n",
       "      <td>11107.796610</td>\n",
       "    </tr>\n",
       "    <tr>\n",
       "      <th>1</th>\n",
       "      <td>1</td>\n",
       "      <td>211.5</td>\n",
       "      <td>0.290212</td>\n",
       "      <td>0.640469</td>\n",
       "      <td>-0.092715</td>\n",
       "      <td>20653.559322</td>\n",
       "    </tr>\n",
       "    <tr>\n",
       "      <th>2</th>\n",
       "      <td>2</td>\n",
       "      <td>165.0</td>\n",
       "      <td>0.302660</td>\n",
       "      <td>0.515987</td>\n",
       "      <td>-0.004100</td>\n",
       "      <td>13537.627119</td>\n",
       "    </tr>\n",
       "    <tr>\n",
       "      <th>3</th>\n",
       "      <td>3</td>\n",
       "      <td>171.5</td>\n",
       "      <td>0.300952</td>\n",
       "      <td>0.541128</td>\n",
       "      <td>0.063678</td>\n",
       "      <td>17008.813559</td>\n",
       "    </tr>\n",
       "    <tr>\n",
       "      <th>4</th>\n",
       "      <td>4</td>\n",
       "      <td>170.0</td>\n",
       "      <td>0.305101</td>\n",
       "      <td>0.566268</td>\n",
       "      <td>0.142753</td>\n",
       "      <td>13016.949153</td>\n",
       "    </tr>\n",
       "  </tbody>\n",
       "</table>\n",
       "</div>"
      ],
      "text/plain": [
       "  feature amplitude percent_beyond_1_std percent_close_to_median      skew  \\\n",
       "  channel         0                    0                       0         0   \n",
       "0       0     143.5             0.327313                0.505004  0.032805   \n",
       "1       1     211.5             0.290212                0.640469 -0.092715   \n",
       "2       2     165.0             0.302660                0.515987 -0.004100   \n",
       "3       3     171.5             0.300952                0.541128  0.063678   \n",
       "4       4     170.0             0.305101                0.566268  0.142753   \n",
       "\n",
       "      max_slope  \n",
       "              0  \n",
       "0  11107.796610  \n",
       "1  20653.559322  \n",
       "2  13537.627119  \n",
       "3  17008.813559  \n",
       "4  13016.949153  "
      ]
     },
     "execution_count": 10,
     "metadata": {},
     "output_type": "execute_result"
    }
   ],
   "source": [
    "fset_cesium = pd.read_csv(\"full_eeg_data_features.csv\", header = [0, 1])\n",
    "fset_cesium.head()"
   ]
  },
  {
   "cell_type": "code",
   "execution_count": 11,
   "metadata": {},
   "outputs": [
    {
     "name": "stdout",
     "output_type": "stream",
     "text": [
      "0.03280499636078603\n"
     ]
    },
    {
     "data": {
      "text/plain": [
       "(array([  10.,   57.,  276.,  730., 1048., 1042.,  621.,  263.,   42.,\n",
       "           8.]),\n",
       " array([-146. , -117.3,  -88.6,  -59.9,  -31.2,   -2.5,   26.2,   54.9,\n",
       "          83.6,  112.3,  141. ]),\n",
       " <BarContainer object of 10 artists>)"
      ]
     },
     "execution_count": 11,
     "metadata": {},
     "output_type": "execute_result"
    },
    {
     "data": {
      "image/png": "[encoded data removed]",
      "text/plain": [
       "<Figure size 720x720 with 1 Axes>"
      ]
     },
     "metadata": {
      "needs_background": "light"
     },
     "output_type": "display_data"
    }
   ],
   "source": [
    "ex = eeg[\"measurements\"][0]\n",
    "ex_mean = np.mean(ex)\n",
    "ex_std  = np.std(ex)\n",
    "# amplitude\n",
    "(np.max(ex) - np.min(ex)) / 2\n",
    " \n",
    "siz = len(ex)\n",
    "ll = ex_mean - ex_std\n",
    "ul = ex_mean + ex_std\n",
    "\n",
    "quals = [i for i in range(siz) if ex[i] < ll or ex[i] > ul]\n",
    "len(quals)/len(ex)\n",
    "# percent_close_to_median\n",
    "# Percentage of values within window_frac*(max(x)-min(x)) of median.\n",
    "# find the source code here:\n",
    "# https://github.com/cesium-ml/cesium/blob/master/cesium/features/common_functions.py\n",
    "# window frac = 0.1\n",
    "window = 0.1 * (np.max(ex) - np.min(ex))\n",
    "np.where(np.abs(ex_mean - ex) < window)[0].shape[0] / ex.shape[0]\n",
    "## skew\n",
    "print(skew(ex))\n",
    "plt.hist(ex)"
   ]
  },
  {
   "cell_type": "code",
   "execution_count": null,
   "metadata": {},
   "outputs": [],
   "source": []
  }
 ],
 "metadata": {
  "kernelspec": {
   "display_name": "Python 3",
   "language": "python",
   "name": "python3"
  },
  "language_info": {
   "codemirror_mode": {
    "name": "ipython",
    "version": 3
   },
   "file_extension": ".py",
   "mimetype": "text/x-python",
   "name": "python",
   "nbconvert_exporter": "python",
   "pygments_lexer": "ipython3",
   "version": "3.8.5"
  }
 },
 "nbformat": 4,
 "nbformat_minor": 4
}
