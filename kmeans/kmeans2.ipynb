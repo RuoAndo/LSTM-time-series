{
 "cells": [
  {
   "cell_type": "code",
   "execution_count": 2,
   "metadata": {},
   "outputs": [],
   "source": [
    "from sklearn.datasets import make_blobs\n",
    "X, labels = make_blobs(100, centers=1)\n",
    "import numpy as np"
   ]
  },
  {
   "cell_type": "code",
   "execution_count": 3,
   "metadata": {},
   "outputs": [
    {
     "data": {
      "text/plain": [
       "KMeans(n_clusters=1)"
      ]
     },
     "execution_count": 3,
     "metadata": {},
     "output_type": "execute_result"
    }
   ],
   "source": [
    "from sklearn.cluster import KMeans\n",
    "kmeans = KMeans(n_clusters=1)\n",
    "kmeans.fit(X)"
   ]
  },
  {
   "cell_type": "code",
   "execution_count": 4,
   "metadata": {
    "scrolled": true
   },
   "outputs": [
    {
     "data": {
      "text/plain": [
       "<matplotlib.legend.Legend at 0x23869c12fa0>"
      ]
     },
     "execution_count": 4,
     "metadata": {},
     "output_type": "execute_result"
    },
    {
     "data": {
      "image/png": "[encoded data removed]",
      "text/plain": [
       "<Figure size 576x360 with 1 Axes>"
      ]
     },
     "metadata": {
      "needs_background": "light"
     },
     "output_type": "display_data"
    }
   ],
   "source": [
    "import matplotlib.pyplot as plt\n",
    "%matplotlib inline\n",
    "\n",
    "f, ax = plt.subplots(figsize=(8, 5))\n",
    "ax.set_title(\"Blob\")\n",
    "ax.scatter(X[:, 0], X[:, 1], label='Points')\n",
    "ax.scatter(kmeans.cluster_centers_[:, 0],kmeans.cluster_centers_[:, 1], label='Centroid',color='r')\n",
    "ax.legend()"
   ]
  },
  {
   "cell_type": "code",
   "execution_count": 5,
   "metadata": {},
   "outputs": [],
   "source": [
    "distances = kmeans.transform(X)"
   ]
  },
  {
   "cell_type": "code",
   "execution_count": 6,
   "metadata": {},
   "outputs": [],
   "source": [
    "sorted_idx = np.argsort(distances.ravel())[::-1][:5] "
   ]
  },
  {
   "cell_type": "code",
   "execution_count": 8,
   "metadata": {
    "scrolled": true
   },
   "outputs": [
    {
     "name": "stdout",
     "output_type": "stream",
     "text": [
      "[[0.61729919]\n",
      " [0.56314297]\n",
      " [0.60275512]\n",
      " [0.64193006]\n",
      " [0.41759313]\n",
      " [0.88383045]\n",
      " [2.52580057]\n",
      " [1.2111444 ]\n",
      " [0.64606589]\n",
      " [0.8862147 ]\n",
      " [1.86173072]\n",
      " [0.59082713]\n",
      " [1.20361704]\n",
      " [1.35009056]\n",
      " [1.45090304]\n",
      " [0.38088787]\n",
      " [1.59249676]\n",
      " [0.57074991]\n",
      " [0.84182885]\n",
      " [1.38957627]\n",
      " [1.61561963]\n",
      " [1.30604033]\n",
      " [0.61237842]\n",
      " [1.66278892]\n",
      " [0.31709351]\n",
      " [1.60025051]\n",
      " [1.27308106]\n",
      " [0.91299312]\n",
      " [0.36976092]\n",
      " [3.52899584]\n",
      " [1.21539042]\n",
      " [1.49642952]\n",
      " [1.49288369]\n",
      " [0.45405219]\n",
      " [2.71919769]\n",
      " [2.0859711 ]\n",
      " [0.40108517]\n",
      " [0.28122377]\n",
      " [1.53408353]\n",
      " [2.38709358]\n",
      " [0.57927994]\n",
      " [1.82945243]\n",
      " [1.19999833]\n",
      " [2.47809273]\n",
      " [1.06621687]\n",
      " [1.14211966]\n",
      " [1.26167389]\n",
      " [1.7859934 ]\n",
      " [1.04541157]\n",
      " [2.06365511]\n",
      " [1.25620333]\n",
      " [0.4814758 ]\n",
      " [1.85272618]\n",
      " [2.19613302]\n",
      " [1.80544828]\n",
      " [0.79651402]\n",
      " [1.52363905]\n",
      " [0.61026599]\n",
      " [1.00868243]\n",
      " [1.54335666]\n",
      " [1.71736614]\n",
      " [0.48838733]\n",
      " [1.28392475]\n",
      " [1.42326011]\n",
      " [1.12691435]\n",
      " [2.11221287]\n",
      " [1.54729615]\n",
      " [1.40782487]\n",
      " [0.57154134]\n",
      " [1.46548649]\n",
      " [1.48498532]\n",
      " [1.19992219]\n",
      " [0.89637588]\n",
      " [1.26510871]\n",
      " [0.99955555]\n",
      " [0.73944115]\n",
      " [2.40405795]\n",
      " [1.40345793]\n",
      " [1.04956726]\n",
      " [1.89654834]\n",
      " [1.21016262]\n",
      " [1.31810955]\n",
      " [1.23592394]\n",
      " [0.8961574 ]\n",
      " [1.34759458]\n",
      " [1.42742771]\n",
      " [2.66650702]\n",
      " [0.26658619]\n",
      " [0.94854135]\n",
      " [0.97015292]\n",
      " [2.04119552]\n",
      " [0.55512049]\n",
      " [1.53289916]\n",
      " [0.67045434]\n",
      " [3.01915714]\n",
      " [0.39654562]\n",
      " [0.5544414 ]\n",
      " [0.52974263]\n",
      " [1.25318734]\n",
      " [1.72236295]]\n"
     ]
    }
   ],
   "source": [
    "print(distances)"
   ]
  },
  {
   "cell_type": "code",
   "execution_count": 7,
   "metadata": {},
   "outputs": [
    {
     "data": {
      "text/plain": [
       "<matplotlib.legend.Legend at 0x23869d2fd90>"
      ]
     },
     "execution_count": 7,
     "metadata": {},
     "output_type": "execute_result"
    },
    {
     "data": {
      "image/png": "[encoded data removed]",
      "text/plain": [
       "<Figure size 504x360 with 1 Axes>"
      ]
     },
     "metadata": {
      "needs_background": "light"
     },
     "output_type": "display_data"
    }
   ],
   "source": [
    "f, ax = plt.subplots(figsize=(7, 5))\n",
    "ax.set_title(\"Single Cluster\")\n",
    "ax.scatter(X[:, 0], X[:, 1], label='Points')\n",
    "ax.scatter(kmeans.cluster_centers_[:, 0],kmeans.cluster_centers_[:, 1],label='Centroid', color='r')\n",
    "ax.scatter(X[sorted_idx][:, 0], X[sorted_idx][:, 1],label='Extreme Value', edgecolors='g',facecolors='none', s=100)\n",
    "ax.legend(loc='best')"
   ]
  }
 ],
 "metadata": {
  "kernelspec": {
   "display_name": "Python 3",
   "language": "python",
   "name": "python3"
  },
  "language_info": {
   "codemirror_mode": {
    "name": "ipython",
    "version": 3
   },
   "file_extension": ".py",
   "mimetype": "text/x-python",
   "name": "python",
   "nbconvert_exporter": "python",
   "pygments_lexer": "ipython3",
   "version": "3.8.5"
  }
 },
 "nbformat": 4,
 "nbformat_minor": 4
}
