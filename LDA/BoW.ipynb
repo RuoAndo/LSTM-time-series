{
 "cells": [
  {
   "cell_type": "code",
   "execution_count": 1,
   "metadata": {},
   "outputs": [],
   "source": [
    "bards_words =[\"The fool doth think he is wise,\",\n",
    "              \"but the wise man knows himself to be a fool\"]"
   ]
  },
  {
   "cell_type": "code",
   "execution_count": 2,
   "metadata": {},
   "outputs": [
    {
     "data": {
      "text/plain": [
       "CountVectorizer()"
      ]
     },
     "execution_count": 2,
     "metadata": {},
     "output_type": "execute_result"
    }
   ],
   "source": [
    "from sklearn.feature_extraction.text import CountVectorizer\n",
    "vect = CountVectorizer()\n",
    "vect.fit(bards_words)"
   ]
  },
  {
   "cell_type": "code",
   "execution_count": 3,
   "metadata": {},
   "outputs": [
    {
     "name": "stdout",
     "output_type": "stream",
     "text": [
      "Vocabulary size: 13\n",
      "Vocabulary content:\n",
      " {'the': 9, 'fool': 3, 'doth': 2, 'think': 10, 'he': 4, 'is': 6, 'wise': 12, 'but': 1, 'man': 8, 'knows': 7, 'himself': 5, 'to': 11, 'be': 0}\n"
     ]
    }
   ],
   "source": [
    "print(\"Vocabulary size: {}\".format(len(vect.vocabulary_)))\n",
    "print(\"Vocabulary content:\\n {}\".format(vect.vocabulary_))"
   ]
  },
  {
   "cell_type": "code",
   "execution_count": 4,
   "metadata": {},
   "outputs": [
    {
     "name": "stdout",
     "output_type": "stream",
     "text": [
      "bag_of_words: <2x13 sparse matrix of type '<class 'numpy.int64'>'\n",
      "\twith 16 stored elements in Compressed Sparse Row format>\n"
     ]
    }
   ],
   "source": [
    "bag_of_words = vect.transform(bards_words)\n",
    "print(\"bag_of_words: {}\".format(repr(bag_of_words)))"
   ]
  },
  {
   "cell_type": "code",
   "execution_count": 5,
   "metadata": {},
   "outputs": [
    {
     "name": "stdout",
     "output_type": "stream",
     "text": [
      "Dense representation of bag_of_words:\n",
      "[[0 0 1 1 1 0 1 0 0 1 1 0 1]\n",
      " [1 1 0 1 0 1 0 1 1 1 0 1 1]]\n"
     ]
    }
   ],
   "source": [
    "print(\"Dense representation of bag_of_words:\\n{}\".format(\n",
    "    bag_of_words.toarray()))"
   ]
  },
  {
   "cell_type": "code",
   "execution_count": 17,
   "metadata": {},
   "outputs": [],
   "source": [
    "bards_words =[\"VMware View Planner 4.x prior to 4.6 Security Patch 1 contains a remote code execution vulnerability. Improper input validation and lack of authorization leading to arbitrary file upload in logupload web application. An unauthorized attacker with network access to View Planner Harness could upload and execute a specially crafted file leading to remote code execution within the logupload container.\",\"Vulnerability in the MySQL Server product of Oracle MySQL (component: Server: Optimizer). Supported versions that are affected are 8.0.22 and prior. Easily exploitable vulnerability allows high privileged attacker with network access via multiple protocols to compromise MySQL Server. Successful attacks of this vulnerability can result in unauthorized ability to cause a hang or frequently repeatable crash (complete DOS) of MySQL Server. CVSS 3.1 Base Score 4.9 (Availability impacts). CVSS Vector: (CVSS:3.1/AV:N/AC:L/PR:H/UI:N/S:U/C:N/I:N/A:H).\"]"
   ]
  },
  {
   "cell_type": "code",
   "execution_count": 18,
   "metadata": {},
   "outputs": [
    {
     "data": {
      "text/plain": [
       "CountVectorizer()"
      ]
     },
     "execution_count": 18,
     "metadata": {},
     "output_type": "execute_result"
    }
   ],
   "source": [
    "from sklearn.feature_extraction.text import CountVectorizer\n",
    "vect = CountVectorizer()\n",
    "vect.fit(bards_words)"
   ]
  },
  {
   "cell_type": "code",
   "execution_count": 19,
   "metadata": {},
   "outputs": [
    {
     "name": "stdout",
     "output_type": "stream",
     "text": [
      "Vocabulary size: 86\n",
      "Vocabulary content:\n",
      " {'vmware': 81, 'view': 80, 'planner': 54, 'prior': 56, 'to': 72, 'security': 64, 'patch': 53, 'contains': 24, 'remote': 60, 'code': 19, 'execution': 32, 'vulnerability': 82, 'improper': 40, 'input': 42, 'validation': 76, 'and': 7, 'lack': 43, 'of': 49, 'authorization': 13, 'leading': 44, 'arbitrary': 9, 'file': 34, 'upload': 75, 'in': 41, 'logupload': 45, 'web': 83, 'application': 8, 'an': 6, 'unauthorized': 74, 'attacker': 11, 'with': 84, 'network': 48, 'access': 3, 'harness': 37, 'could': 25, 'execute': 31, 'specially': 66, 'crafted': 26, 'within': 85, 'the': 70, 'container': 23, 'mysql': 47, 'server': 65, 'product': 58, 'oracle': 52, 'component': 21, 'optimizer': 50, 'supported': 68, 'versions': 78, 'that': 69, 'are': 10, 'affected': 4, '22': 0, 'easily': 30, 'exploitable': 33, 'allows': 5, 'high': 38, 'privileged': 57, 'via': 79, 'multiple': 46, 'protocols': 59, 'compromise': 22, 'successful': 67, 'attacks': 12, 'this': 71, 'can': 17, 'result': 62, 'ability': 1, 'cause': 18, 'hang': 36, 'or': 51, 'frequently': 35, 'repeatable': 61, 'crash': 27, 'complete': 20, 'dos': 29, 'cvss': 28, 'base': 16, 'score': 63, 'availability': 15, 'impacts': 39, 'vector': 77, 'av': 14, 'ac': 2, 'pr': 55, 'ui': 73}\n"
     ]
    }
   ],
   "source": [
    "print(\"Vocabulary size: {}\".format(len(vect.vocabulary_)))\n",
    "print(\"Vocabulary content:\\n {}\".format(vect.vocabulary_))"
   ]
  },
  {
   "cell_type": "code",
   "execution_count": 20,
   "metadata": {},
   "outputs": [
    {
     "name": "stdout",
     "output_type": "stream",
     "text": [
      "bag_of_words: <2x86 sparse matrix of type '<class 'numpy.int64'>'\n",
      "\twith 98 stored elements in Compressed Sparse Row format>\n"
     ]
    }
   ],
   "source": [
    "bag_of_words = vect.transform(bards_words)\n",
    "print(\"bag_of_words: {}\".format(repr(bag_of_words)))"
   ]
  },
  {
   "cell_type": "code",
   "execution_count": 21,
   "metadata": {},
   "outputs": [
    {
     "name": "stdout",
     "output_type": "stream",
     "text": [
      "Dense representation of bag_of_words:\n",
      "[[0 0 0 1 0 0 1 2 1 1 0 1 0 1 0 0 0 0 0 2 0 0 0 1 1 1 1 0 0 0 0 1 2 0 2 0\n",
      "  0 1 0 0 1 1 1 1 2 2 0 0 1 1 0 0 0 1 2 0 1 0 0 0 2 0 0 0 1 0 1 0 0 0 1 0\n",
      "  4 0 1 2 1 0 0 0 2 1 1 1 1 1]\n",
      " [1 1 1 1 1 1 0 1 0 0 2 1 1 0 1 1 1 1 1 0 1 1 1 0 0 0 0 1 3 1 1 0 0 1 0 1\n",
      "  1 0 1 1 0 2 0 0 0 0 1 4 1 3 1 1 1 0 0 1 1 1 1 1 0 1 1 1 0 4 0 1 1 1 1 1\n",
      "  2 1 1 0 0 1 1 1 0 0 3 0 1 0]]\n"
     ]
    }
   ],
   "source": [
    "print(\"Dense representation of bag_of_words:\\n{}\".format(bag_of_words.toarray()))"
   ]
  },
  {
   "cell_type": "code",
   "execution_count": null,
   "metadata": {},
   "outputs": [],
   "source": []
  }
 ],
 "metadata": {
  "kernelspec": {
   "display_name": "Python 3",
   "language": "python",
   "name": "python3"
  },
  "language_info": {
   "codemirror_mode": {
    "name": "ipython",
    "version": 3
   },
   "file_extension": ".py",
   "mimetype": "text/x-python",
   "name": "python",
   "nbconvert_exporter": "python",
   "pygments_lexer": "ipython3",
   "version": "3.8.5"
  }
 },
 "nbformat": 4,
 "nbformat_minor": 4
}
