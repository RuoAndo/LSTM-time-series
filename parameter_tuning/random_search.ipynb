{
 "cells": [
  {
   "cell_type": "code",
   "execution_count": 1,
   "metadata": {},
   "outputs": [],
   "source": [
    "from sklearn import datasets\n",
    "\n",
    "iris = datasets.load_iris()\n",
    "X = iris.data[:,2:]\n",
    "y = iris.target\n",
    "\n",
    "from sklearn.model_selection import train_test_split\n",
    "X_train, X_test, y_train, y_test = train_test_split(X, y, stratify = y,random_state = 7)"
   ]
  },
  {
   "cell_type": "code",
   "execution_count": 2,
   "metadata": {},
   "outputs": [],
   "source": [
    "from sklearn.neighbors import KNeighborsClassifier\n",
    "\n",
    "knn_clf = KNeighborsClassifier()"
   ]
  },
  {
   "cell_type": "code",
   "execution_count": 20,
   "metadata": {},
   "outputs": [],
   "source": [
    "param_grid = {'n_neighbors': list(range(3,50,1))}"
   ]
  },
  {
   "cell_type": "code",
   "execution_count": 21,
   "metadata": {},
   "outputs": [],
   "source": [
    "from sklearn.model_selection import GridSearchCV, cross_val_score\n",
    "gs = GridSearchCV(knn_clf,param_grid,cv=10)"
   ]
  },
  {
   "cell_type": "code",
   "execution_count": 22,
   "metadata": {},
   "outputs": [
    {
     "data": {
      "text/plain": [
       "GridSearchCV(cv=10, estimator=KNeighborsClassifier(),\n",
       "             param_grid={'n_neighbors': [3, 4, 5, 6, 7, 8, 9, 10, 11, 12, 13,\n",
       "                                         14, 15, 16, 17, 18, 19, 20, 21, 22, 23,\n",
       "                                         24, 25, 26, 27, 28, 29, 30, 31, 32, ...]})"
      ]
     },
     "execution_count": 22,
     "metadata": {},
     "output_type": "execute_result"
    }
   ],
   "source": [
    "gs.fit(X_train, y_train)"
   ]
  },
  {
   "cell_type": "code",
   "execution_count": 23,
   "metadata": {},
   "outputs": [
    {
     "data": {
      "text/plain": [
       "{'n_neighbors': 11}"
      ]
     },
     "execution_count": 23,
     "metadata": {},
     "output_type": "execute_result"
    }
   ],
   "source": [
    "gs.best_params_"
   ]
  },
  {
   "cell_type": "code",
   "execution_count": 8,
   "metadata": {},
   "outputs": [
    {
     "data": {
      "text/plain": [
       "<zip at 0x1c051ef0880>"
      ]
     },
     "execution_count": 8,
     "metadata": {},
     "output_type": "execute_result"
    }
   ],
   "source": [
    "gs.cv_results_['mean_test_score']\n",
    "zip(gs.cv_results_['params'],gs.cv_results_['mean_test_score'])"
   ]
  },
  {
   "cell_type": "code",
   "execution_count": 12,
   "metadata": {},
   "outputs": [
    {
     "data": {
      "text/plain": [
       "[(11, 0.9643939393939395),\n",
       " (12, 0.9643939393939395),\n",
       " (13, 0.9643939393939395),\n",
       " (14, 0.9643939393939395),\n",
       " (15, 0.9643939393939395),\n",
       " (3, 0.9553030303030303),\n",
       " (5, 0.9553030303030303),\n",
       " (7, 0.9553030303030303),\n",
       " (8, 0.9553030303030303),\n",
       " (9, 0.9553030303030303),\n",
       " (16, 0.9553030303030303),\n",
       " (23, 0.9553030303030303),\n",
       " (27, 0.9553030303030303),\n",
       " (37, 0.9553030303030303),\n",
       " (40, 0.9553030303030303),\n",
       " (42, 0.9553030303030303),\n",
       " (6, 0.9469696969696969),\n",
       " (17, 0.9469696969696969),\n",
       " (10, 0.9462121212121211),\n",
       " (18, 0.9462121212121211),\n",
       " (20, 0.9462121212121211),\n",
       " (21, 0.9462121212121211),\n",
       " (22, 0.9462121212121211),\n",
       " (24, 0.9462121212121211),\n",
       " (25, 0.9462121212121211),\n",
       " (26, 0.9462121212121211),\n",
       " (28, 0.9462121212121211),\n",
       " (30, 0.9462121212121211),\n",
       " (32, 0.9462121212121211),\n",
       " (34, 0.9462121212121211),\n",
       " (35, 0.9462121212121211),\n",
       " (36, 0.9462121212121211),\n",
       " (38, 0.9462121212121211),\n",
       " (39, 0.9462121212121211),\n",
       " (41, 0.9462121212121211),\n",
       " (43, 0.9462121212121211),\n",
       " (44, 0.9462121212121211),\n",
       " (45, 0.9462121212121211),\n",
       " (46, 0.9462121212121211),\n",
       " (47, 0.9462121212121211),\n",
       " (48, 0.9462121212121211),\n",
       " (49, 0.9462121212121211),\n",
       " (4, 0.9378787878787879),\n",
       " (19, 0.9378787878787879),\n",
       " (29, 0.9378787878787879),\n",
       " (31, 0.9371212121212121),\n",
       " (33, 0.9371212121212121)]"
      ]
     },
     "execution_count": 12,
     "metadata": {},
     "output_type": "execute_result"
    }
   ],
   "source": [
    "all_scores = []\n",
    "for n_neighbors in range(3,50,1):\n",
    "    knn_clf = KNeighborsClassifier(n_neighbors = n_neighbors)\n",
    "    all_scores.append((n_neighbors, cross_val_score(knn_clf, X_train, y_train, cv=10).mean()))\n",
    "sorted(all_scores, key = lambda x:x[1], reverse = True)"
   ]
  },
  {
   "cell_type": "code",
   "execution_count": 24,
   "metadata": {},
   "outputs": [],
   "source": [
    "from sklearn.neighbors import KNeighborsClassifier\n",
    "\n",
    "knn_clf = KNeighborsClassifier()\n",
    "param_dist = {'n_neighbors': list(range(3,50,1))}"
   ]
  },
  {
   "cell_type": "code",
   "execution_count": null,
   "metadata": {},
   "outputs": [],
   "source": []
  },
  {
   "cell_type": "code",
   "execution_count": 25,
   "metadata": {},
   "outputs": [
    {
     "data": {
      "text/plain": [
       "RandomizedSearchCV(cv=10, estimator=KNeighborsClassifier(), n_iter=6,\n",
       "                   param_distributions={'n_neighbors': [3, 4, 5, 6, 7, 8, 9, 10,\n",
       "                                                        11, 12, 13, 14, 15, 16,\n",
       "                                                        17, 18, 19, 20, 21, 22,\n",
       "                                                        23, 24, 25, 26, 27, 28,\n",
       "                                                        29, 30, 31, 32, ...]})"
      ]
     },
     "execution_count": 25,
     "metadata": {},
     "output_type": "execute_result"
    }
   ],
   "source": [
    "from sklearn.model_selection import RandomizedSearchCV\n",
    "rs = RandomizedSearchCV(knn_clf,param_dist,cv=10,n_iter=6)\n",
    "rs.fit(X_train, y_train)"
   ]
  },
  {
   "cell_type": "code",
   "execution_count": 26,
   "metadata": {},
   "outputs": [
    {
     "data": {
      "text/plain": [
       "{'n_neighbors': 12}"
      ]
     },
     "execution_count": 26,
     "metadata": {},
     "output_type": "execute_result"
    }
   ],
   "source": [
    "rs.best_params_"
   ]
  },
  {
   "cell_type": "code",
   "execution_count": 27,
   "metadata": {},
   "outputs": [
    {
     "data": {
      "text/plain": [
       "{'n_neighbors': 11}"
      ]
     },
     "execution_count": 27,
     "metadata": {},
     "output_type": "execute_result"
    }
   ],
   "source": [
    "gs.best_params_"
   ]
  }
 ],
 "metadata": {
  "kernelspec": {
   "display_name": "Python 3",
   "language": "python",
   "name": "python3"
  },
  "language_info": {
   "codemirror_mode": {
    "name": "ipython",
    "version": 3
   },
   "file_extension": ".py",
   "mimetype": "text/x-python",
   "name": "python",
   "nbconvert_exporter": "python",
   "pygments_lexer": "ipython3",
   "version": "3.8.5"
  }
 },
 "nbformat": 4,
 "nbformat_minor": 4
}
