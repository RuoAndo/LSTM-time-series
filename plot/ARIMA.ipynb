{
 "cells": [
  {
   "cell_type": "code",
   "execution_count": 1,
   "metadata": {},
   "outputs": [],
   "source": [
    "import pandas as pd"
   ]
  },
  {
   "cell_type": "code",
   "execution_count": 2,
   "metadata": {},
   "outputs": [],
   "source": [
    "df = pd.read_csv(\"1.csv\", header=None, names=[\"time\",\"counts\",\"span\"])"
   ]
  },
  {
   "cell_type": "code",
   "execution_count": 3,
   "metadata": {},
   "outputs": [
    {
     "name": "stdout",
     "output_type": "stream",
     "text": [
      "           time     counts  span\n",
      "0    1615993200  3551119.0   600\n",
      "1    1615993800  3517804.0   600\n",
      "2    1615994400  3553455.0   600\n",
      "3    1615995000  3625036.0   600\n",
      "4    1615995600  3664903.0   600\n",
      "..          ...        ...   ...\n",
      "427  1616249400  5157282.0   600\n",
      "428  1616250000  3518859.0   600\n",
      "429  1616250600  3499013.0   600\n",
      "430  1616251200  3649223.0   600\n",
      "431  1616251800  3560582.0   600\n",
      "\n",
      "[432 rows x 3 columns]\n"
     ]
    }
   ],
   "source": [
    "print(df)"
   ]
  },
  {
   "cell_type": "code",
   "execution_count": 5,
   "metadata": {},
   "outputs": [],
   "source": [
    "import datetime"
   ]
  },
  {
   "cell_type": "code",
   "execution_count": 10,
   "metadata": {},
   "outputs": [],
   "source": [
    "df['time'] = pd.to_datetime(df['time'].astype(int), unit='s')"
   ]
  },
  {
   "cell_type": "code",
   "execution_count": 11,
   "metadata": {},
   "outputs": [
    {
     "name": "stdout",
     "output_type": "stream",
     "text": [
      "0     2021-03-17 15:00:00\n",
      "1     2021-03-17 15:10:00\n",
      "2     2021-03-17 15:20:00\n",
      "3     2021-03-17 15:30:00\n",
      "4     2021-03-17 15:40:00\n",
      "              ...        \n",
      "427   2021-03-20 14:10:00\n",
      "428   2021-03-20 14:20:00\n",
      "429   2021-03-20 14:30:00\n",
      "430   2021-03-20 14:40:00\n",
      "431   2021-03-20 14:50:00\n",
      "Name: time, Length: 432, dtype: datetime64[ns]\n"
     ]
    }
   ],
   "source": [
    "print(df['time'])"
   ]
  },
  {
   "cell_type": "code",
   "execution_count": 13,
   "metadata": {},
   "outputs": [],
   "source": [
    "import matplotlib.pyplot as plt\n",
    "import matplotlib.dates as md\n",
    "import dateutil"
   ]
  },
  {
   "cell_type": "code",
   "execution_count": 14,
   "metadata": {},
   "outputs": [
    {
     "data": {
      "text/plain": [
       "[<matplotlib.lines.Line2D at 0x239fc47a130>]"
      ]
     },
     "execution_count": 14,
     "metadata": {},
     "output_type": "execute_result"
    },
    {
     "data": {
      "image/png": "[encoded data removed]",
      "text/plain": [
       "<Figure size 432x288 with 1 Axes>"
      ]
     },
     "metadata": {
      "needs_background": "light"
     },
     "output_type": "display_data"
    }
   ],
   "source": [
    "plt.plot(df['time'], df['counts'])"
   ]
  },
  {
   "cell_type": "code",
   "execution_count": 15,
   "metadata": {},
   "outputs": [],
   "source": [
    "from statsmodels.tsa.arima_model import ARIMA\n",
    "from sklearn.metrics import mean_squared_error"
   ]
  },
  {
   "cell_type": "code",
   "execution_count": 25,
   "metadata": {},
   "outputs": [],
   "source": [
    "Q = df['counts']"
   ]
  },
  {
   "cell_type": "code",
   "execution_count": 26,
   "metadata": {},
   "outputs": [],
   "source": [
    "P = Q.dropna()"
   ]
  },
  {
   "cell_type": "code",
   "execution_count": 29,
   "metadata": {},
   "outputs": [],
   "source": [
    "size = int(len(P) * 0.5)\n",
    "train, test = P[0:size], P[size:len(P)]\n",
    "history = [p for p in train]\n",
    "predictions = list()"
   ]
  },
  {
   "cell_type": "code",
   "execution_count": 24,
   "metadata": {},
   "outputs": [
    {
     "name": "stdout",
     "output_type": "stream",
     "text": [
      "0      3551119.0\n",
      "1      3517804.0\n",
      "2      3553455.0\n",
      "3      3625036.0\n",
      "4      3664903.0\n",
      "         ...    \n",
      "427    5157282.0\n",
      "428    3518859.0\n",
      "429    3499013.0\n",
      "430    3649223.0\n",
      "431    3560582.0\n",
      "Name: counts, Length: 428, dtype: float64\n"
     ]
    }
   ],
   "source": [
    "print(P.dropna())"
   ]
  },
  {
   "cell_type": "code",
   "execution_count": 31,
   "metadata": {},
   "outputs": [
    {
     "name": "stdout",
     "output_type": "stream",
     "text": [
      "0      3551119.0\n",
      "1      3517804.0\n",
      "2      3553455.0\n",
      "3      3625036.0\n",
      "4      3664903.0\n",
      "         ...    \n",
      "427    5157282.0\n",
      "428    3518859.0\n",
      "429    3499013.0\n",
      "430    3649223.0\n",
      "431    3560582.0\n",
      "Name: counts, Length: 432, dtype: float64\n"
     ]
    }
   ],
   "source": [
    "print(Q)"
   ]
  },
  {
   "cell_type": "code",
   "execution_count": 32,
   "metadata": {},
   "outputs": [
    {
     "name": "stdout",
     "output_type": "stream",
     "text": [
      "0      3551119.0\n",
      "1      3517804.0\n",
      "2      3553455.0\n",
      "3      3625036.0\n",
      "4      3664903.0\n",
      "         ...    \n",
      "427    5157282.0\n",
      "428    3518859.0\n",
      "429    3499013.0\n",
      "430    3649223.0\n",
      "431    3560582.0\n",
      "Name: counts, Length: 428, dtype: float64\n"
     ]
    }
   ],
   "source": [
    "print(P)"
   ]
  },
  {
   "cell_type": "code",
   "execution_count": 33,
   "metadata": {},
   "outputs": [],
   "source": [
    "size = int(len(P) * 0.5)\n",
    "train, test = P[0:size], P[size:len(P)]\n",
    "history = [p for p in train]\n",
    "predictions = list()"
   ]
  },
  {
   "cell_type": "code",
   "execution_count": 36,
   "metadata": {},
   "outputs": [
    {
     "data": {
      "text/plain": [
       "[<matplotlib.lines.Line2D at 0x239809d6c10>]"
      ]
     },
     "execution_count": 36,
     "metadata": {},
     "output_type": "execute_result"
    },
    {
     "data": {
      "image/png": "[encoded data removed]",
      "text/plain": [
       "<Figure size 432x288 with 1 Axes>"
      ]
     },
     "metadata": {
      "needs_background": "light"
     },
     "output_type": "display_data"
    }
   ],
   "source": [
    "plt.plot(df['time'], Q)"
   ]
  },
  {
   "cell_type": "code",
   "execution_count": 41,
   "metadata": {},
   "outputs": [],
   "source": [
    "a = []\n",
    "for i in P:\n",
    "    a.append(i)"
   ]
  },
  {
   "cell_type": "code",
   "execution_count": 42,
   "metadata": {},
   "outputs": [
    {
     "name": "stdout",
     "output_type": "stream",
     "text": [
      "[3551119.0, 3517804.0, 3553455.0, 3625036.0, 3664903.0, 3486503.0, 3480593.0, 3582042.0, 3487264.0, 3284283.0, 3287707.0, 3256301.0, 3084049.0, 3135047.0, 3023832.0, 3127794.0, 3130631.0, 3044584.0, 3058036.0, 3035851.0, 3035376.0, 3003703.0, 2990305.0, 3106389.0, 2987793.0, 3073597.0, 3014794.0, 3049000.0, 3433160.0, 3002511.0, 5340149.0, 2943813.0, 2877265.0, 3070133.0, 2899225.0, 2913476.0, 3007414.0, 2833693.0, 2965755.0, 3001936.0, 2972138.0, 3010260.0, 3207806.0, 3126125.0, 3227850.0, 3466975.0, 3402328.0, 3593598.0, 3701771.0, 3797929.0, 4217860.0, 5033816.0, 4943125.0, 4772623.0, 5941358.0, 5102654.0, 5179816.0, 5341197.0, 5308336.0, 5495921.0, 5575804.0, 5569658.0, 5552145.0, 5619230.0, 5391863.0, 5656154.0, 5485062.0, 5543718.0, 5573849.0, 5313573.0, 4561150.0, 5542777.0, 6045886.0, 6304895.0, 6113887.0, 6726776.0, 6758643.0, 6669246.0, 9134855.0, 6498411.0, 6191253.0, 6038029.0, 6254600.0, 6206080.0, 6432640.0, 5818382.0, 6101162.0, 6177769.0, 6369623.0, 6321063.0, 6331913.0, 6640154.0, 6288703.0, 6344065.0, 7763512.0, 7392273.0, 6390290.0, 6178684.0, 6218930.0, 6166433.0, 6322050.0, 6131604.0, 6173602.0, 6102421.0, 5641792.0, 6032211.0, 5418025.0, 5718468.0, 5641441.0, 5212183.0, 5176908.0, 4986566.0, 5307482.0, 5204639.0, 5091376.0, 4949326.0, 4721477.0, 4901870.0, 4730684.0, 4798987.0, 4681312.0, 4306215.0, 4275682.0, 4020407.0, 3907663.0, 3914106.0, 3870422.0, 3875038.0, 3448465.0, 3716155.0, 3903280.0, 3857208.0, 4005291.0, 3727748.0, 3727861.0, 4457608.0, 3667753.0, 4157674.0, 3512718.0, 3651705.0, 3535478.0, 3663445.0, 3704854.0, 3664754.0, 3885129.0, 3784958.0, 3541625.0, 3698135.0, 3618358.0, 3463542.0, 3489425.0, 3469347.0, 3381890.0, 3254364.0, 2986150.0, 3197586.0, 3423884.0, 3198739.0, 5601323.0, 3243148.0, 3184649.0, 3285662.0, 3335147.0, 3240279.0, 3121409.0, 5695397.0, 3084984.0, 3164402.0, 3280426.0, 3256522.0, 3124519.0, 3202270.0, 3163126.0, 3186682.0, 3442796.0, 3366853.0, 3237623.0, 3121268.0, 3151060.0, 3115337.0, 3127143.0, 2963699.0, 2753200.0, 3146395.0, 3240329.0, 3146584.0, 3257204.0, 3328313.0, 3376584.0, 3343999.0, 3419213.0, 3535084.0, 3709103.0, 3935063.0, 4015630.0, 4790996.0, 4770952.0, 4747705.0, 5049115.0, 5278322.0, 4986851.0, 4199639.0, 4358199.0, 5342836.0, 5686964.0, 1666148.0, 5978543.0, 13471625.0, 12219684.0, 12017753.0, 12991680.0, 6389466.0, 7748909.0, 6352091.0, 6447461.0, 6412248.0, 6522832.0, 6866549.0, 6468516.0, 5712769.0, 9133139.0, 3935022.0, 1554543.0, 6068282.0, 10868294.0, 7067417.0, 8749953.0, 6499812.0, 6675666.0, 6791580.0, 6593960.0, 6749528.0, 6801808.0, 6763079.0, 6863785.0, 6883702.0, 6440531.0, 6459010.0, 6328750.0, 6190698.0, 6424264.0, 6643424.0, 6719966.0, 7205188.0, 5855648.0, 3499307.0, 8478265.0, 5552334.0, 5529778.0, 6561931.0, 5185439.0, 4731201.0, 4714486.0, 4467579.0, 4419326.0, 4359654.0, 4202423.0, 4086686.0, 4124311.0, 4101978.0, 4628979.0, 3752378.0, 3714489.0, 3557192.0, 3508247.0, 3694522.0, 3744717.0, 4118142.0, 3802048.0, 3748840.0, 3761763.0, 3700475.0, 3668227.0, 3699399.0, 3696065.0, 3489200.0, 3656097.0, 3537050.0, 3603799.0, 3662617.0, 3316884.0, 3198943.0, 3290919.0, 5114716.0, 4138096.0, 3507077.0, 3578262.0, 3479555.0, 3585658.0, 3497671.0, 3503839.0, 4024373.0, 4309408.0, 3903687.0, 3733892.0, 3533252.0, 3665780.0, 3586411.0, 3688402.0, 3380528.0, 3264480.0, 3568474.0, 3505442.0, 3503579.0, 3945153.0, 3734256.0, 3401936.0, 3304892.0, 3487573.0, 3330987.0, 3150752.0, 3086456.0, 2907762.0, 3136202.0, 3160401.0, 3085038.0, 3052852.0, 3119377.0, 3130436.0, 3199923.0, 3208105.0, 3037370.0, 3104027.0, 2995486.0, 3047988.0, 3130662.0, 3459014.0, 3177988.0, 3121796.0, 3099304.0, 3085660.0, 3407176.0, 3243011.0, 3529467.0, 3404926.0, 3366282.0, 4153998.0, 4181398.0, 3705935.0, 3673992.0, 3598087.0, 3675822.0, 3588511.0, 3514311.0, 3558929.0, 3511965.0, 3576362.0, 3567022.0, 5865313.0, 3219195.0, 3536589.0, 3601744.0, 3719703.0, 3596482.0, 3799630.0, 3839196.0, 3689630.0, 3879694.0, 4018889.0, 3970250.0, 3865479.0, 3981232.0, 4214242.0, 4056461.0, 3996625.0, 4087270.0, 4004572.0, 4122428.0, 4099842.0, 3823066.0, 3776218.0, 5415444.0, 3643562.0, 4031222.0, 4078466.0, 4719151.0, 4192675.0, 4174852.0, 3977643.0, 4217435.0, 4137957.0, 4247713.0, 4215241.0, 4043186.0, 4026391.0, 3902519.0, 3914533.0, 3898592.0, 3836295.0, 3833787.0, 3746632.0, 3800593.0, 3726707.0, 3772403.0, 3769297.0, 3462678.0, 3083922.0, 3255733.0, 3585847.0, 3703535.0, 3619815.0, 3569899.0, 3576964.0, 3703124.0, 3741072.0, 3581659.0, 3590553.0, 3697271.0, 3610651.0, 4346913.0, 3511873.0, 3491765.0, 6218837.0, 3540587.0, 3622706.0, 3655452.0, 3625503.0, 3661784.0, 4143834.0, 3603310.0, 3652780.0, 3184253.0, 3499858.0, 5157282.0, 3518859.0, 3499013.0, 3649223.0, 3560582.0]\n"
     ]
    }
   ],
   "source": [
    "print(a)"
   ]
  },
  {
   "cell_type": "code",
   "execution_count": 43,
   "metadata": {},
   "outputs": [],
   "source": [
    "P = []\n",
    "for i in a:\n",
    "    P.append(i)"
   ]
  },
  {
   "cell_type": "code",
   "execution_count": 44,
   "metadata": {},
   "outputs": [
    {
     "name": "stdout",
     "output_type": "stream",
     "text": [
      "[3551119.0, 3517804.0, 3553455.0, 3625036.0, 3664903.0, 3486503.0, 3480593.0, 3582042.0, 3487264.0, 3284283.0, 3287707.0, 3256301.0, 3084049.0, 3135047.0, 3023832.0, 3127794.0, 3130631.0, 3044584.0, 3058036.0, 3035851.0, 3035376.0, 3003703.0, 2990305.0, 3106389.0, 2987793.0, 3073597.0, 3014794.0, 3049000.0, 3433160.0, 3002511.0, 5340149.0, 2943813.0, 2877265.0, 3070133.0, 2899225.0, 2913476.0, 3007414.0, 2833693.0, 2965755.0, 3001936.0, 2972138.0, 3010260.0, 3207806.0, 3126125.0, 3227850.0, 3466975.0, 3402328.0, 3593598.0, 3701771.0, 3797929.0, 4217860.0, 5033816.0, 4943125.0, 4772623.0, 5941358.0, 5102654.0, 5179816.0, 5341197.0, 5308336.0, 5495921.0, 5575804.0, 5569658.0, 5552145.0, 5619230.0, 5391863.0, 5656154.0, 5485062.0, 5543718.0, 5573849.0, 5313573.0, 4561150.0, 5542777.0, 6045886.0, 6304895.0, 6113887.0, 6726776.0, 6758643.0, 6669246.0, 9134855.0, 6498411.0, 6191253.0, 6038029.0, 6254600.0, 6206080.0, 6432640.0, 5818382.0, 6101162.0, 6177769.0, 6369623.0, 6321063.0, 6331913.0, 6640154.0, 6288703.0, 6344065.0, 7763512.0, 7392273.0, 6390290.0, 6178684.0, 6218930.0, 6166433.0, 6322050.0, 6131604.0, 6173602.0, 6102421.0, 5641792.0, 6032211.0, 5418025.0, 5718468.0, 5641441.0, 5212183.0, 5176908.0, 4986566.0, 5307482.0, 5204639.0, 5091376.0, 4949326.0, 4721477.0, 4901870.0, 4730684.0, 4798987.0, 4681312.0, 4306215.0, 4275682.0, 4020407.0, 3907663.0, 3914106.0, 3870422.0, 3875038.0, 3448465.0, 3716155.0, 3903280.0, 3857208.0, 4005291.0, 3727748.0, 3727861.0, 4457608.0, 3667753.0, 4157674.0, 3512718.0, 3651705.0, 3535478.0, 3663445.0, 3704854.0, 3664754.0, 3885129.0, 3784958.0, 3541625.0, 3698135.0, 3618358.0, 3463542.0, 3489425.0, 3469347.0, 3381890.0, 3254364.0, 2986150.0, 3197586.0, 3423884.0, 3198739.0, 5601323.0, 3243148.0, 3184649.0, 3285662.0, 3335147.0, 3240279.0, 3121409.0, 5695397.0, 3084984.0, 3164402.0, 3280426.0, 3256522.0, 3124519.0, 3202270.0, 3163126.0, 3186682.0, 3442796.0, 3366853.0, 3237623.0, 3121268.0, 3151060.0, 3115337.0, 3127143.0, 2963699.0, 2753200.0, 3146395.0, 3240329.0, 3146584.0, 3257204.0, 3328313.0, 3376584.0, 3343999.0, 3419213.0, 3535084.0, 3709103.0, 3935063.0, 4015630.0, 4790996.0, 4770952.0, 4747705.0, 5049115.0, 5278322.0, 4986851.0, 4199639.0, 4358199.0, 5342836.0, 5686964.0, 1666148.0, 5978543.0, 13471625.0, 12219684.0, 12017753.0, 12991680.0, 6389466.0, 7748909.0, 6352091.0, 6447461.0, 6412248.0, 6522832.0, 6866549.0, 6468516.0, 5712769.0, 9133139.0, 3935022.0, 1554543.0, 6068282.0, 10868294.0, 7067417.0, 8749953.0, 6499812.0, 6675666.0, 6791580.0, 6593960.0, 6749528.0, 6801808.0, 6763079.0, 6863785.0, 6883702.0, 6440531.0, 6459010.0, 6328750.0, 6190698.0, 6424264.0, 6643424.0, 6719966.0, 7205188.0, 5855648.0, 3499307.0, 8478265.0, 5552334.0, 5529778.0, 6561931.0, 5185439.0, 4731201.0, 4714486.0, 4467579.0, 4419326.0, 4359654.0, 4202423.0, 4086686.0, 4124311.0, 4101978.0, 4628979.0, 3752378.0, 3714489.0, 3557192.0, 3508247.0, 3694522.0, 3744717.0, 4118142.0, 3802048.0, 3748840.0, 3761763.0, 3700475.0, 3668227.0, 3699399.0, 3696065.0, 3489200.0, 3656097.0, 3537050.0, 3603799.0, 3662617.0, 3316884.0, 3198943.0, 3290919.0, 5114716.0, 4138096.0, 3507077.0, 3578262.0, 3479555.0, 3585658.0, 3497671.0, 3503839.0, 4024373.0, 4309408.0, 3903687.0, 3733892.0, 3533252.0, 3665780.0, 3586411.0, 3688402.0, 3380528.0, 3264480.0, 3568474.0, 3505442.0, 3503579.0, 3945153.0, 3734256.0, 3401936.0, 3304892.0, 3487573.0, 3330987.0, 3150752.0, 3086456.0, 2907762.0, 3136202.0, 3160401.0, 3085038.0, 3052852.0, 3119377.0, 3130436.0, 3199923.0, 3208105.0, 3037370.0, 3104027.0, 2995486.0, 3047988.0, 3130662.0, 3459014.0, 3177988.0, 3121796.0, 3099304.0, 3085660.0, 3407176.0, 3243011.0, 3529467.0, 3404926.0, 3366282.0, 4153998.0, 4181398.0, 3705935.0, 3673992.0, 3598087.0, 3675822.0, 3588511.0, 3514311.0, 3558929.0, 3511965.0, 3576362.0, 3567022.0, 5865313.0, 3219195.0, 3536589.0, 3601744.0, 3719703.0, 3596482.0, 3799630.0, 3839196.0, 3689630.0, 3879694.0, 4018889.0, 3970250.0, 3865479.0, 3981232.0, 4214242.0, 4056461.0, 3996625.0, 4087270.0, 4004572.0, 4122428.0, 4099842.0, 3823066.0, 3776218.0, 5415444.0, 3643562.0, 4031222.0, 4078466.0, 4719151.0, 4192675.0, 4174852.0, 3977643.0, 4217435.0, 4137957.0, 4247713.0, 4215241.0, 4043186.0, 4026391.0, 3902519.0, 3914533.0, 3898592.0, 3836295.0, 3833787.0, 3746632.0, 3800593.0, 3726707.0, 3772403.0, 3769297.0, 3462678.0, 3083922.0, 3255733.0, 3585847.0, 3703535.0, 3619815.0, 3569899.0, 3576964.0, 3703124.0, 3741072.0, 3581659.0, 3590553.0, 3697271.0, 3610651.0, 4346913.0, 3511873.0, 3491765.0, 6218837.0, 3540587.0, 3622706.0, 3655452.0, 3625503.0, 3661784.0, 4143834.0, 3603310.0, 3652780.0, 3184253.0, 3499858.0, 5157282.0, 3518859.0, 3499013.0, 3649223.0, 3560582.0]\n"
     ]
    }
   ],
   "source": [
    "print(P)"
   ]
  },
  {
   "cell_type": "code",
   "execution_count": 45,
   "metadata": {},
   "outputs": [],
   "source": [
    "size = int(len(P) * 0.66)\n",
    "train, test = P[0:size], P[size:len(P)]\n",
    "history = [p for p in train]\n",
    "predictions = list()"
   ]
  },
  {
   "cell_type": "code",
   "execution_count": 46,
   "metadata": {},
   "outputs": [
    {
     "name": "stdout",
     "output_type": "stream",
     "text": [
      "predicted=3358013.263466, expected=3290919.000000\n",
      "predicted=3317320.898202, expected=5114716.000000\n",
      "predicted=4509484.283459, expected=4138096.000000\n",
      "predicted=3938192.240858, expected=3507077.000000\n",
      "predicted=3840235.697624, expected=3578262.000000\n",
      "predicted=3544164.211654, expected=3479555.000000\n",
      "predicted=3433457.802429, expected=3585658.000000\n",
      "predicted=3861106.495326, expected=3497671.000000\n",
      "predicted=3601593.539103, expected=3503839.000000\n",
      "predicted=3523791.403861, expected=4024373.000000\n",
      "predicted=3847300.900591, expected=4309408.000000\n",
      "predicted=4029785.228629, expected=3903687.000000\n",
      "predicted=3900003.638015, expected=3733892.000000\n",
      "predicted=3802084.521778, expected=3533252.000000\n",
      "predicted=3573549.016825, expected=3665780.000000\n",
      "predicted=3736474.489745, expected=3586411.000000\n",
      "predicted=3697552.331735, expected=3688402.000000\n",
      "predicted=3729624.646866, expected=3380528.000000\n",
      "predicted=3475330.016908, expected=3264480.000000\n",
      "predicted=3388985.750561, expected=3568474.000000\n",
      "predicted=3534562.933865, expected=3505442.000000\n",
      "predicted=3477068.519952, expected=3503579.000000\n",
      "predicted=3560932.558219, expected=3945153.000000\n",
      "predicted=3761925.395158, expected=3734256.000000\n",
      "predicted=3617661.277076, expected=3401936.000000\n",
      "predicted=3547060.217268, expected=3304892.000000\n",
      "predicted=3398960.062717, expected=3487573.000000\n",
      "predicted=3460905.534100, expected=3330987.000000\n",
      "predicted=3433475.764994, expected=3150752.000000\n",
      "predicted=3318775.964409, expected=3086456.000000\n",
      "predicted=3172100.775013, expected=2907762.000000\n",
      "predicted=3010366.002561, expected=3136202.000000\n",
      "predicted=3182042.284899, expected=3160401.000000\n",
      "predicted=3136364.542044, expected=3085038.000000\n",
      "predicted=3114951.992879, expected=3052852.000000\n",
      "predicted=3072572.784793, expected=3119377.000000\n",
      "predicted=3069370.458002, expected=3130436.000000\n",
      "predicted=3114483.480348, expected=3199923.000000\n",
      "predicted=3179092.756171, expected=3208105.000000\n",
      "predicted=3170587.144412, expected=3037370.000000\n",
      "predicted=3069681.110474, expected=3104027.000000\n",
      "predicted=3120306.414277, expected=2995486.000000\n",
      "predicted=3016290.530379, expected=3047988.000000\n",
      "predicted=3084819.375770, expected=3130662.000000\n",
      "predicted=3111377.339105, expected=3459014.000000\n",
      "predicted=3313584.494687, expected=3177988.000000\n",
      "predicted=3161064.760453, expected=3121796.000000\n",
      "predicted=3169108.171374, expected=3099304.000000\n",
      "predicted=3085319.767656, expected=3085660.000000\n",
      "predicted=3097627.854528, expected=3407176.000000\n",
      "predicted=3357607.609381, expected=3243011.000000\n",
      "predicted=3204282.509795, expected=3529467.000000\n",
      "predicted=3447627.313009, expected=3404926.000000\n",
      "predicted=3313762.713371, expected=3366282.000000\n",
      "predicted=3359254.701902, expected=4153998.000000\n",
      "predicted=3879724.315751, expected=4181398.000000\n",
      "predicted=3881753.848804, expected=3705935.000000\n",
      "predicted=3794318.890646, expected=3673992.000000\n",
      "predicted=3708083.795478, expected=3598087.000000\n",
      "predicted=3557300.980544, expected=3675822.000000\n",
      "predicted=3762733.169155, expected=3588511.000000\n",
      "predicted=3691056.384445, expected=3514311.000000\n",
      "predicted=3580375.445070, expected=3558929.000000\n",
      "predicted=3578735.538819, expected=3511965.000000\n",
      "predicted=3525531.721085, expected=3576362.000000\n",
      "predicted=3592684.560035, expected=3567022.000000\n",
      "predicted=3558806.135296, expected=5865313.000000\n",
      "predicted=5051587.695189, expected=3219195.000000\n",
      "predicted=3393206.206266, expected=3536589.000000\n",
      "predicted=4023357.950204, expected=3601744.000000\n",
      "predicted=3405226.019376, expected=3719703.000000\n",
      "predicted=3694107.433101, expected=3596482.000000\n",
      "predicted=4000911.658737, expected=3799630.000000\n",
      "predicted=3684333.592598, expected=3839196.000000\n",
      "predicted=3739726.304819, expected=3689630.000000\n",
      "predicted=3706396.464566, expected=3879694.000000\n",
      "predicted=3841477.867350, expected=4018889.000000\n",
      "predicted=3881821.040229, expected=3970250.000000\n",
      "predicted=3936829.642736, expected=3865479.000000\n",
      "predicted=3895326.135389, expected=3981232.000000\n",
      "predicted=3925103.927215, expected=4214242.000000\n",
      "predicted=4090326.316776, expected=4056461.000000\n",
      "predicted=4049094.850445, expected=3996625.000000\n",
      "predicted=4041241.313046, expected=4087270.000000\n",
      "predicted=4036465.423475, expected=4004572.000000\n",
      "predicted=4003248.124664, expected=4122428.000000\n",
      "predicted=4136570.077263, expected=4099842.000000\n",
      "predicted=4075891.014358, expected=3823066.000000\n",
      "predicted=3918852.001880, expected=3776218.000000\n",
      "predicted=3887174.696826, expected=5415444.000000\n",
      "predicted=4852490.715727, expected=3643562.000000\n",
      "predicted=3803141.103447, expected=4031222.000000\n",
      "predicted=4333857.937968, expected=4078466.000000\n",
      "predicted=3885757.174225, expected=4719151.000000\n",
      "predicted=4441526.789782, expected=4192675.000000\n",
      "predicted=4410824.455427, expected=4174852.000000\n",
      "predicted=4200024.763418, expected=3977643.000000\n",
      "predicted=4014104.634920, expected=4217435.000000\n",
      "predicted=4183142.611117, expected=4137957.000000\n",
      "predicted=4212571.265394, expected=4247713.000000\n",
      "predicted=4241443.607823, expected=4215241.000000\n",
      "predicted=4196375.906071, expected=4043186.000000\n",
      "predicted=4079223.035651, expected=4026391.000000\n",
      "predicted=4094551.442593, expected=3902519.000000\n",
      "predicted=3969153.650676, expected=3914533.000000\n",
      "predicted=3994353.377000, expected=3898592.000000\n",
      "predicted=3953748.439249, expected=3836295.000000\n",
      "predicted=3890750.767372, expected=3833787.000000\n",
      "predicted=3880032.210124, expected=3746632.000000\n",
      "predicted=3791651.408027, expected=3800593.000000\n",
      "predicted=3826177.682356, expected=3726707.000000\n",
      "predicted=3761115.404417, expected=3772403.000000\n",
      "predicted=3790273.449867, expected=3769297.000000\n",
      "predicted=3772119.360877, expected=3462678.000000\n",
      "predicted=3577436.569984, expected=3083922.000000\n",
      "predicted=3337730.201242, expected=3255733.000000\n",
      "predicted=3357401.521528, expected=3585847.000000\n",
      "predicted=3510882.365012, expected=3703535.000000\n",
      "predicted=3641670.671002, expected=3619815.000000\n",
      "predicted=3598865.094230, expected=3569899.000000\n",
      "predicted=3511459.577054, expected=3576964.000000\n",
      "predicted=3524719.603369, expected=3703124.000000\n",
      "predicted=3655059.584666, expected=3741072.000000\n",
      "predicted=3706331.380766, expected=3581659.000000\n",
      "predicted=3618508.793444, expected=3590553.000000\n",
      "predicted=3613546.553792, expected=3697271.000000\n",
      "predicted=3648458.844483, expected=3610651.000000\n",
      "predicted=3627459.033205, expected=4346913.000000\n",
      "predicted=4111820.955779, expected=3511873.000000\n",
      "predicted=3565716.648557, expected=3491765.000000\n",
      "predicted=3680373.419723, expected=6218837.000000\n",
      "predicted=5197779.644743, expected=3540587.000000\n",
      "predicted=3649531.789373, expected=3622706.000000\n",
      "predicted=4309102.506715, expected=3655452.000000\n",
      "predicted=3509530.229553, expected=3625503.000000\n",
      "predicted=3627540.587241, expected=3661784.000000\n",
      "predicted=4105889.776727, expected=4143834.000000\n",
      "predicted=3927900.963134, expected=3603310.000000\n",
      "predicted=3640510.832042, expected=3652780.000000\n",
      "predicted=3753237.423958, expected=3184253.000000\n",
      "predicted=3335220.028914, expected=3499858.000000\n",
      "predicted=3548203.031578, expected=5157282.000000\n",
      "predicted=4553299.891260, expected=3518859.000000\n",
      "predicted=3609165.690222, expected=3499013.000000\n",
      "predicted=3870916.288048, expected=3649223.000000\n",
      "predicted=3480415.042075, expected=3560582.000000\n"
     ]
    }
   ],
   "source": [
    "for t in range(len(test)):\n",
    "\tmodel = ARIMA(history, order=(5,1,0))\n",
    "\tmodel_fit = model.fit(disp=0)\n",
    "\toutput = model_fit.forecast()\n",
    "\tyhat = output[0]\n",
    "\tpredictions.append(yhat)\n",
    "\tobs = test[t]\n",
    "\thistory.append(obs)\n",
    "\tprint('predicted=%f, expected=%f' % (yhat, obs))"
   ]
  },
  {
   "cell_type": "code",
   "execution_count": 48,
   "metadata": {},
   "outputs": [
    {
     "name": "stdout",
     "output_type": "stream",
     "text": [
      "Test MSE: 245643518694.214\n"
     ]
    },
    {
     "data": {
      "image/png": "[encoded data removed]",
      "text/plain": [
       "<Figure size 432x288 with 1 Axes>"
      ]
     },
     "metadata": {
      "needs_background": "light"
     },
     "output_type": "display_data"
    }
   ],
   "source": [
    "error = mean_squared_error(test, predictions)\n",
    "print('Test MSE: %.3f' % error)\n",
    "# plot\n",
    "\n",
    "plt.plot(test)\n",
    "plt.plot(predictions, color='red')\n",
    "plt.show()"
   ]
  },
  {
   "cell_type": "code",
   "execution_count": null,
   "metadata": {},
   "outputs": [],
   "source": []
  }
 ],
 "metadata": {
  "kernelspec": {
   "display_name": "Python 3",
   "language": "python",
   "name": "python3"
  },
  "language_info": {
   "codemirror_mode": {
    "name": "ipython",
    "version": 3
   },
   "file_extension": ".py",
   "mimetype": "text/x-python",
   "name": "python",
   "nbconvert_exporter": "python",
   "pygments_lexer": "ipython3",
   "version": "3.8.5"
  }
 },
 "nbformat": 4,
 "nbformat_minor": 4
}
