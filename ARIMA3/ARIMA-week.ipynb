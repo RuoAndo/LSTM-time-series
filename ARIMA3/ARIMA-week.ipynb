{
 "cells": [
  {
   "cell_type": "code",
   "execution_count": 1,
   "metadata": {},
   "outputs": [],
   "source": [
    "import pandas as pd"
   ]
  },
  {
   "cell_type": "code",
   "execution_count": 2,
   "metadata": {},
   "outputs": [],
   "source": [
    "df = pd.read_csv(\"week.csv\", header=None, names=[\"time\",\"counts\",\"span\"])"
   ]
  },
  {
   "cell_type": "code",
   "execution_count": 3,
   "metadata": {},
   "outputs": [
    {
     "name": "stdout",
     "output_type": "stream",
     "text": [
      "            time   counts  span\n",
      "0     1615042800  3641102   600\n",
      "1     1615043400  3762153   600\n",
      "2     1615044000  3488644   600\n",
      "3     1615044600  3425204   600\n",
      "4     1615045200  5906062   600\n",
      "...          ...      ...   ...\n",
      "1003  1615644600  3289105   600\n",
      "1004  1615645200  3139526   600\n",
      "1005  1615645800  3189467   600\n",
      "1006  1615646400  3451376   600\n",
      "1007  1615647000  3418822   600\n",
      "\n",
      "[1008 rows x 3 columns]\n"
     ]
    }
   ],
   "source": [
    "print(df)"
   ]
  },
  {
   "cell_type": "code",
   "execution_count": 4,
   "metadata": {},
   "outputs": [],
   "source": [
    "import datetime"
   ]
  },
  {
   "cell_type": "code",
   "execution_count": 5,
   "metadata": {},
   "outputs": [],
   "source": [
    "df['time'] = pd.to_datetime(df['time'].astype(int), unit='s')"
   ]
  },
  {
   "cell_type": "code",
   "execution_count": 6,
   "metadata": {},
   "outputs": [
    {
     "name": "stdout",
     "output_type": "stream",
     "text": [
      "0      2021-03-06 15:00:00\n",
      "1      2021-03-06 15:10:00\n",
      "2      2021-03-06 15:20:00\n",
      "3      2021-03-06 15:30:00\n",
      "4      2021-03-06 15:40:00\n",
      "               ...        \n",
      "1003   2021-03-13 14:10:00\n",
      "1004   2021-03-13 14:20:00\n",
      "1005   2021-03-13 14:30:00\n",
      "1006   2021-03-13 14:40:00\n",
      "1007   2021-03-13 14:50:00\n",
      "Name: time, Length: 1008, dtype: datetime64[ns]\n"
     ]
    }
   ],
   "source": [
    "print(df['time'])"
   ]
  },
  {
   "cell_type": "code",
   "execution_count": 8,
   "metadata": {},
   "outputs": [],
   "source": [
    "import matplotlib.pyplot as plt\n",
    "import matplotlib.dates as md\n",
    "import dateutil"
   ]
  },
  {
   "cell_type": "code",
   "execution_count": 9,
   "metadata": {},
   "outputs": [
    {
     "data": {
      "text/plain": [
       "[<matplotlib.lines.Line2D at 0x1f7215b6fa0>]"
      ]
     },
     "execution_count": 9,
     "metadata": {},
     "output_type": "execute_result"
    },
    {
     "data": {
      "image/png": "[encoded data removed]",
      "text/plain": [
       "<Figure size 432x288 with 1 Axes>"
      ]
     },
     "metadata": {
      "needs_background": "light"
     },
     "output_type": "display_data"
    }
   ],
   "source": [
    "plt.plot(df['time'], df['counts'])"
   ]
  },
  {
   "cell_type": "code",
   "execution_count": 10,
   "metadata": {},
   "outputs": [],
   "source": [
    "from statsmodels.tsa.arima_model import ARIMA\n",
    "from sklearn.metrics import mean_squared_error"
   ]
  },
  {
   "cell_type": "code",
   "execution_count": 11,
   "metadata": {},
   "outputs": [],
   "source": [
    "Q = df['counts']"
   ]
  },
  {
   "cell_type": "code",
   "execution_count": 12,
   "metadata": {},
   "outputs": [],
   "source": [
    "# 欠損地を削除\n",
    "P = Q.dropna()"
   ]
  },
  {
   "cell_type": "code",
   "execution_count": 13,
   "metadata": {},
   "outputs": [],
   "source": [
    "size = int(len(P) * 0.5)\n",
    "train, test = P[0:size], P[size:len(P)]\n",
    "history = [p for p in train]\n",
    "predictions = list()"
   ]
  },
  {
   "cell_type": "code",
   "execution_count": 14,
   "metadata": {},
   "outputs": [
    {
     "name": "stdout",
     "output_type": "stream",
     "text": [
      "0       3641102\n",
      "1       3762153\n",
      "2       3488644\n",
      "3       3425204\n",
      "4       5906062\n",
      "         ...   \n",
      "1003    3289105\n",
      "1004    3139526\n",
      "1005    3189467\n",
      "1006    3451376\n",
      "1007    3418822\n",
      "Name: counts, Length: 1008, dtype: int64\n"
     ]
    }
   ],
   "source": [
    "print(P.dropna())"
   ]
  },
  {
   "cell_type": "code",
   "execution_count": 15,
   "metadata": {},
   "outputs": [
    {
     "name": "stdout",
     "output_type": "stream",
     "text": [
      "0       3641102\n",
      "1       3762153\n",
      "2       3488644\n",
      "3       3425204\n",
      "4       5906062\n",
      "         ...   \n",
      "1003    3289105\n",
      "1004    3139526\n",
      "1005    3189467\n",
      "1006    3451376\n",
      "1007    3418822\n",
      "Name: counts, Length: 1008, dtype: int64\n"
     ]
    }
   ],
   "source": [
    "print(Q)"
   ]
  },
  {
   "cell_type": "code",
   "execution_count": 16,
   "metadata": {},
   "outputs": [
    {
     "name": "stdout",
     "output_type": "stream",
     "text": [
      "0       3641102\n",
      "1       3762153\n",
      "2       3488644\n",
      "3       3425204\n",
      "4       5906062\n",
      "         ...   \n",
      "1003    3289105\n",
      "1004    3139526\n",
      "1005    3189467\n",
      "1006    3451376\n",
      "1007    3418822\n",
      "Name: counts, Length: 1008, dtype: int64\n"
     ]
    }
   ],
   "source": [
    "print(P)"
   ]
  },
  {
   "cell_type": "code",
   "execution_count": 17,
   "metadata": {},
   "outputs": [],
   "source": [
    "size = int(len(P) * 0.5)\n",
    "train, test = P[0:size], P[size:len(P)]\n",
    "history = [p for p in train]\n",
    "predictions = list()"
   ]
  },
  {
   "cell_type": "code",
   "execution_count": 19,
   "metadata": {},
   "outputs": [],
   "source": [
    "a = []\n",
    "for i in P:\n",
    "    a.append(i)"
   ]
  },
  {
   "cell_type": "code",
   "execution_count": 20,
   "metadata": {},
   "outputs": [],
   "source": [
    "P = []\n",
    "for i in a:\n",
    "    P.append(i)"
   ]
  },
  {
   "cell_type": "code",
   "execution_count": 21,
   "metadata": {},
   "outputs": [],
   "source": [
    "size = int(len(P) * 0.66)\n",
    "train, test = P[0:size], P[size:len(P)]\n",
    "history = [p for p in train]\n",
    "predictions = list()"
   ]
  },
  {
   "cell_type": "code",
   "execution_count": 22,
   "metadata": {},
   "outputs": [
    {
     "name": "stderr",
     "output_type": "stream",
     "text": [
      "C:\\ProgramData\\Anaconda3\\lib\\site-packages\\statsmodels\\tsa\\arima_model.py:472: FutureWarning: \n",
      "statsmodels.tsa.arima_model.ARMA and statsmodels.tsa.arima_model.ARIMA have\n",
      "been deprecated in favor of statsmodels.tsa.arima.model.ARIMA (note the .\n",
      "between arima and model) and\n",
      "statsmodels.tsa.SARIMAX. These will be removed after the 0.12 release.\n",
      "\n",
      "statsmodels.tsa.arima.model.ARIMA makes use of the statespace framework and\n",
      "is both well tested and maintained.\n",
      "\n",
      "To silence this warning and continue using ARMA and ARIMA until they are\n",
      "removed, use:\n",
      "\n",
      "import warnings\n",
      "warnings.filterwarnings('ignore', 'statsmodels.tsa.arima_model.ARMA',\n",
      "                        FutureWarning)\n",
      "warnings.filterwarnings('ignore', 'statsmodels.tsa.arima_model.ARIMA',\n",
      "                        FutureWarning)\n",
      "\n",
      "  warnings.warn(ARIMA_DEPRECATION_WARN, FutureWarning)\n"
     ]
    },
    {
     "name": "stdout",
     "output_type": "stream",
     "text": [
      "predicted=6814748.612672, expected=6637047.000000\n",
      "predicted=6844277.157500, expected=6874475.000000\n",
      "predicted=6832007.637522, expected=6763063.000000\n",
      "predicted=6782593.742250, expected=6576047.000000\n",
      "predicted=6800756.171690, expected=6829771.000000\n",
      "predicted=6739720.096858, expected=6475175.000000\n",
      "predicted=6627779.749064, expected=6321622.000000\n",
      "predicted=6517042.923391, expected=5972486.000000\n",
      "predicted=6280478.997654, expected=5803773.000000\n",
      "predicted=6069542.604724, expected=5600363.000000\n",
      "predicted=5873035.260246, expected=6104063.000000\n",
      "predicted=5968353.122468, expected=8321409.000000\n",
      "predicted=7001636.212567, expected=6315864.000000\n",
      "predicted=6624967.213085, expected=6318484.000000\n",
      "predicted=6579016.113293, expected=6032768.000000\n",
      "predicted=6328271.281336, expected=6085669.000000\n",
      "predicted=6230418.911566, expected=6036358.000000\n",
      "predicted=6237540.961335, expected=5885162.000000\n",
      "predicted=6013394.684436, expected=5715378.000000\n",
      "predicted=5891528.183558, expected=5925397.000000\n",
      "predicted=5903656.933320, expected=5493840.000000\n",
      "predicted=5719991.411981, expected=5306576.000000\n",
      "predicted=5553264.949094, expected=5243483.000000\n",
      "predicted=5418565.059661, expected=5147062.000000\n",
      "predicted=5292175.550259, expected=5138583.000000\n",
      "predicted=5237012.101273, expected=5171482.000000\n",
      "predicted=5195991.375244, expected=5094510.000000\n",
      "predicted=5145772.369086, expected=5105696.000000\n",
      "predicted=5131098.537330, expected=4871717.000000\n",
      "predicted=5014578.239883, expected=4473845.000000\n",
      "predicted=4783130.027324, expected=4104507.000000\n",
      "predicted=4494250.022195, expected=4630157.000000\n",
      "predicted=4560670.337876, expected=4618655.000000\n",
      "predicted=4568468.126485, expected=4001553.000000\n",
      "predicted=4313765.998281, expected=6154463.000000\n",
      "predicted=5134838.159139, expected=3989028.000000\n",
      "predicted=4567330.116995, expected=3865722.000000\n",
      "predicted=4363932.684759, expected=3741929.000000\n",
      "predicted=4079471.577834, expected=3728247.000000\n",
      "predicted=3890172.126485, expected=3686519.000000\n",
      "predicted=3888875.333218, expected=3599447.000000\n",
      "predicted=3685314.705658, expected=3648140.000000\n",
      "predicted=3666976.092155, expected=3626721.000000\n",
      "predicted=3642906.564987, expected=3639331.000000\n",
      "predicted=3641922.003275, expected=3593944.000000\n",
      "predicted=3619489.342626, expected=3264646.000000\n",
      "predicted=3462364.973914, expected=3481016.000000\n",
      "predicted=3479363.312290, expected=3430528.000000\n",
      "predicted=3447754.236459, expected=3405732.000000\n",
      "predicted=3432674.642522, expected=5757516.000000\n",
      "predicted=4447930.963887, expected=3392033.000000\n",
      "predicted=3930877.269603, expected=3353910.000000\n",
      "predicted=3778217.503327, expected=3410352.000000\n",
      "predicted=3587689.353538, expected=3282184.000000\n",
      "predicted=3450585.082505, expected=3224506.000000\n",
      "predicted=3449682.532591, expected=3025164.000000\n",
      "predicted=3177649.397434, expected=3156792.000000\n",
      "predicted=3170330.302868, expected=3153971.000000\n",
      "predicted=3158861.321616, expected=2918081.000000\n",
      "predicted=3051972.899236, expected=2967335.000000\n",
      "predicted=3018206.368809, expected=2866041.000000\n",
      "predicted=2940351.177221, expected=3004253.000000\n",
      "predicted=2974360.611494, expected=3286683.000000\n",
      "predicted=3103463.643121, expected=3012561.000000\n",
      "predicted=3050938.747239, expected=2961902.000000\n",
      "predicted=3023860.667037, expected=2710102.000000\n",
      "predicted=2881653.401704, expected=2781853.000000\n",
      "predicted=2847383.739833, expected=2621633.000000\n",
      "predicted=2753726.315313, expected=2642317.000000\n",
      "predicted=2699614.143581, expected=2377301.000000\n",
      "predicted=2554982.924835, expected=2498598.000000\n",
      "predicted=2526697.907857, expected=2539792.000000\n",
      "predicted=2526964.643136, expected=2527240.000000\n",
      "predicted=2520782.175729, expected=2561906.000000\n",
      "predicted=2538776.057750, expected=2614568.000000\n",
      "predicted=2559908.672995, expected=2670036.000000\n",
      "predicted=2609437.410864, expected=2565484.000000\n",
      "predicted=2590054.125687, expected=2601170.000000\n",
      "predicted=2596168.062766, expected=2480309.000000\n",
      "predicted=2543744.422211, expected=2430907.000000\n",
      "predicted=2498594.968487, expected=2399148.000000\n",
      "predicted=2455580.157218, expected=2299279.000000\n",
      "predicted=2382954.142583, expected=2379524.000000\n",
      "predicted=2382890.339647, expected=2368972.000000\n",
      "predicted=2367912.292507, expected=2408194.000000\n",
      "predicted=2383293.389119, expected=2464838.000000\n",
      "predicted=2414800.708345, expected=2517317.000000\n",
      "predicted=2453254.918522, expected=2393432.000000\n",
      "predicted=2428300.089386, expected=2349096.000000\n",
      "predicted=2395698.635887, expected=2356812.000000\n",
      "predicted=2377892.641800, expected=2354409.000000\n",
      "predicted=2367220.163015, expected=2383089.000000\n",
      "predicted=2374452.418108, expected=4448578.000000\n",
      "predicted=3263350.299761, expected=2574343.000000\n",
      "predicted=2921406.525977, expected=2395339.000000\n",
      "predicted=2767771.988110, expected=2416073.000000\n",
      "predicted=2594759.141159, expected=2376222.000000\n",
      "predicted=2498054.165254, expected=2412352.000000\n",
      "predicted=2537715.341507, expected=2524254.000000\n",
      "predicted=2460535.728517, expected=2490972.000000\n",
      "predicted=2463323.021612, expected=2582302.000000\n",
      "predicted=2515716.050497, expected=2818836.000000\n",
      "predicted=2639924.080051, expected=2751169.000000\n",
      "predicted=2683120.992264, expected=2885448.000000\n",
      "predicted=2777273.995849, expected=3086927.000000\n",
      "predicted=2903430.995477, expected=3292707.000000\n",
      "predicted=3069927.245365, expected=3566319.000000\n",
      "predicted=3289239.403632, expected=3841514.000000\n",
      "predicted=3521183.057862, expected=3836190.000000\n",
      "predicted=3659287.907756, expected=4003899.000000\n",
      "predicted=3819428.992616, expected=4233746.000000\n",
      "predicted=4002464.235928, expected=4256089.000000\n",
      "predicted=4119426.105307, expected=4206292.000000\n",
      "predicted=4169950.605706, expected=6336174.000000\n",
      "predicted=5113508.042160, expected=4393720.000000\n",
      "predicted=4767198.866690, expected=4499838.000000\n",
      "predicted=4737266.777990, expected=4707863.000000\n",
      "predicted=4692035.654700, expected=4716895.000000\n",
      "predicted=4694159.675470, expected=4732012.000000\n",
      "predicted=4790214.198349, expected=4737305.000000\n",
      "predicted=4703022.461659, expected=4678054.000000\n",
      "predicted=4697283.117983, expected=4820372.000000\n",
      "predicted=4759657.004895, expected=7150043.000000\n",
      "predicted=5784371.267474, expected=4904830.000000\n",
      "predicted=5369590.223627, expected=5019468.000000\n",
      "predicted=5313919.206337, expected=4974760.000000\n",
      "predicted=5132032.040055, expected=5063748.000000\n",
      "predicted=5107370.965525, expected=5213251.000000\n",
      "predicted=5230590.612576, expected=5296818.000000\n",
      "predicted=5181025.928697, expected=5454355.000000\n",
      "predicted=5303618.696267, expected=5834602.000000\n",
      "predicted=5527877.960560, expected=5388420.000000\n",
      "predicted=5469698.662842, expected=5247245.000000\n"
     ]
    },
    {
     "name": "stderr",
     "output_type": "stream",
     "text": [
      "C:\\ProgramData\\Anaconda3\\lib\\site-packages\\statsmodels\\base\\model.py:566: ConvergenceWarning: Maximum Likelihood optimization failed to converge. Check mle_retvals\n",
      "  warnings.warn(\"Maximum Likelihood optimization failed to \"\n"
     ]
    },
    {
     "name": "stdout",
     "output_type": "stream",
     "text": [
      "predicted=5398703.374214, expected=5175689.000000\n",
      "predicted=5305296.409128, expected=4908481.000000\n",
      "predicted=5143279.577496, expected=4940333.000000\n",
      "predicted=5076022.655529, expected=4966818.000000\n",
      "predicted=5010216.917004, expected=4855836.000000\n",
      "predicted=4941006.298284, expected=4994940.000000\n",
      "predicted=4965499.543190, expected=5226147.000000\n",
      "predicted=5063690.181375, expected=4758026.000000\n",
      "predicted=4934561.829910, expected=4878174.000000\n",
      "predicted=4926563.857887, expected=4769399.000000\n",
      "predicted=4847299.593469, expected=5095906.000000\n",
      "predicted=4962879.315362, expected=4982473.000000\n",
      "predicted=4972560.580217, expected=4490630.000000\n",
      "predicted=4761130.073264, expected=4720323.000000\n",
      "predicted=4757649.056507, expected=4948818.000000\n",
      "predicted=4823366.066917, expected=4796986.000000\n",
      "predicted=4823304.651005, expected=4708205.000000\n",
      "predicted=4778839.440191, expected=4739740.000000\n",
      "predicted=4746391.018013, expected=5021855.000000\n",
      "predicted=4870307.931543, expected=5199542.000000\n",
      "predicted=5013631.776410, expected=4566245.000000\n",
      "predicted=4821299.274760, expected=4631768.000000\n",
      "predicted=4756501.327776, expected=4596457.000000\n",
      "predicted=4679737.231782, expected=4779314.000000\n",
      "predicted=4733709.341822, expected=4726596.000000\n",
      "predicted=4732500.718511, expected=4677010.000000\n",
      "predicted=4692734.380699, expected=4506563.000000\n",
      "predicted=4617790.133079, expected=4505266.000000\n",
      "predicted=4573066.916832, expected=4283906.000000\n",
      "predicted=4454700.476402, expected=4322331.000000\n",
      "predicted=4401845.341255, expected=4197851.000000\n",
      "predicted=4309565.317438, expected=4251287.000000\n",
      "predicted=4282510.473094, expected=4036503.000000\n",
      "predicted=4175199.367453, expected=3843177.000000\n",
      "predicted=4032323.795286, expected=3856462.000000\n",
      "predicted=3959634.767703, expected=3800618.000000\n",
      "predicted=3884136.003023, expected=3867455.000000\n",
      "predicted=3879626.318129, expected=3535105.000000\n",
      "predicted=3723360.635672, expected=3438693.000000\n",
      "predicted=3603729.970273, expected=4576502.000000\n",
      "predicted=4013923.458683, expected=3412505.000000\n",
      "predicted=3731889.999439, expected=3283120.000000\n",
      "predicted=3588980.722687, expected=3360540.000000\n",
      "predicted=3465809.199996, expected=3092986.000000\n",
      "predicted=3299678.951867, expected=5205735.000000\n",
      "predicted=4140400.765483, expected=2731595.000000\n",
      "predicted=3477597.092390, expected=2972935.000000\n",
      "predicted=3349077.744806, expected=3129482.000000\n",
      "predicted=3206747.996741, expected=3168418.000000\n",
      "predicted=3213425.124574, expected=3168669.000000\n",
      "predicted=3215916.958152, expected=3233188.000000\n",
      "predicted=3157361.391395, expected=3094442.000000\n",
      "predicted=3139247.915612, expected=3135362.000000\n",
      "predicted=3145862.711248, expected=3064914.000000\n",
      "predicted=3109696.276685, expected=2988468.000000\n",
      "predicted=3061637.825933, expected=2990108.000000\n",
      "predicted=3031008.431424, expected=3006193.000000\n",
      "predicted=3015036.569322, expected=2735469.000000\n",
      "predicted=2898195.746163, expected=2758403.000000\n",
      "predicted=2841210.494237, expected=2864367.000000\n",
      "predicted=2842075.351685, expected=2796601.000000\n",
      "predicted=2820511.095816, expected=2774593.000000\n",
      "predicted=2799948.214526, expected=2812681.000000\n",
      "predicted=2796293.371345, expected=2770309.000000\n",
      "predicted=2785702.778645, expected=2798016.000000\n",
      "predicted=2793192.690106, expected=2752323.000000\n",
      "predicted=2771844.181541, expected=3401564.000000\n",
      "predicted=3032682.185190, expected=3395749.000000\n",
      "predicted=3170975.924470, expected=3388508.000000\n",
      "predicted=3272764.185626, expected=3132141.000000\n",
      "predicted=3215700.589758, expected=3119332.000000\n",
      "predicted=3188741.618360, expected=3143284.000000\n",
      "predicted=3183190.255608, expected=3648427.000000\n",
      "predicted=3374188.125040, expected=3337732.000000\n",
      "predicted=3345811.561620, expected=3098368.000000\n",
      "predicted=3250223.731113, expected=3053017.000000\n",
      "predicted=3167973.874497, expected=3714756.000000\n",
      "predicted=3398851.990902, expected=3025395.000000\n",
      "predicted=3239495.292662, expected=3061584.000000\n",
      "predicted=3177398.026164, expected=2962317.000000\n"
     ]
    },
    {
     "name": "stderr",
     "output_type": "stream",
     "text": [
      "C:\\ProgramData\\Anaconda3\\lib\\site-packages\\statsmodels\\base\\model.py:566: ConvergenceWarning: Maximum Likelihood optimization failed to converge. Check mle_retvals\n",
      "  warnings.warn(\"Maximum Likelihood optimization failed to \"\n"
     ]
    },
    {
     "name": "stdout",
     "output_type": "stream",
     "text": [
      "predicted=3069560.490398, expected=3041632.000000\n",
      "predicted=3066237.697440, expected=3069289.000000\n",
      "predicted=3071501.778878, expected=2941770.000000\n",
      "predicted=2998646.001601, expected=3005164.000000\n",
      "predicted=3003220.167795, expected=2980016.000000\n",
      "predicted=2988025.800559, expected=2999325.000000\n",
      "predicted=2995768.557291, expected=3034137.000000\n",
      "predicted=3009118.940277, expected=2846446.000000\n",
      "predicted=2938131.860792, expected=2850982.000000\n",
      "predicted=2906789.434828, expected=2852168.000000\n",
      "predicted=2879578.607041, expected=2797597.000000\n",
      "predicted=2845168.892334, expected=2795649.000000\n",
      "predicted=2822733.934487, expected=2882909.000000\n",
      "predicted=2840587.436628, expected=2818225.000000\n",
      "predicted=2828766.228498, expected=2323237.000000\n",
      "predicted=2620431.105596, expected=2605463.000000\n",
      "predicted=2619794.830963, expected=2688611.000000\n",
      "predicted=2633942.644596, expected=2804299.000000\n",
      "predicted=2706374.094077, expected=2723513.000000\n",
      "predicted=2703155.267080, expected=2840604.000000\n",
      "predicted=2753685.711002, expected=2994830.000000\n",
      "predicted=2858972.273776, expected=2672334.000000\n",
      "predicted=2783995.084737, expected=2662114.000000\n",
      "predicted=2743854.879688, expected=2751818.000000\n",
      "predicted=2740770.206275, expected=2774554.000000\n",
      "predicted=2756338.564628, expected=2707560.000000\n",
      "predicted=2735477.321662, expected=2600790.000000\n",
      "predicted=2671518.079666, expected=2595400.000000\n",
      "predicted=2640991.599243, expected=2883669.000000\n",
      "predicted=2741223.337594, expected=5386107.000000\n",
      "predicted=3836498.079868, expected=3145329.000000\n",
      "predicted=3500018.619771, expected=2999293.000000\n",
      "predicted=3381072.698376, expected=2983620.000000\n",
      "predicted=3200252.545756, expected=2938449.000000\n",
      "predicted=3134120.876956, expected=3087516.000000\n",
      "predicted=3149804.390364, expected=3137706.000000\n",
      "predicted=3070152.347777, expected=3094767.000000\n",
      "predicted=3075953.922880, expected=3091963.000000\n",
      "predicted=3082773.181835, expected=3031140.000000\n",
      "predicted=3061754.774170, expected=3308368.000000\n",
      "predicted=3169422.299665, expected=4337832.000000\n",
      "predicted=3645567.987338, expected=2888114.000000\n",
      "predicted=3312720.283623, expected=2956145.000000\n",
      "predicted=3214040.581701, expected=3002983.000000\n",
      "predicted=3110430.508398, expected=3247529.000000\n",
      "predicted=3189164.726212, expected=3482076.000000\n",
      "predicted=3307763.669948, expected=3589264.000000\n",
      "predicted=3378630.166984, expected=3719342.000000\n",
      "predicted=3522854.855190, expected=3757256.000000\n",
      "predicted=3624282.550636, expected=3711086.000000\n",
      "predicted=3672883.017837, expected=3659907.000000\n",
      "predicted=3678504.577071, expected=3586234.000000\n",
      "predicted=3646818.352688, expected=3626204.000000\n",
      "predicted=3643973.045765, expected=3721123.000000\n",
      "predicted=3674100.558086, expected=3849593.000000\n",
      "predicted=3742295.986158, expected=3738423.000000\n",
      "predicted=3736115.346793, expected=3786889.000000\n",
      "predicted=3760136.577511, expected=3819992.000000\n",
      "predicted=3785576.370280, expected=3610760.000000\n",
      "predicted=3718480.605672, expected=3903473.000000\n",
      "predicted=3802214.122597, expected=3648754.000000\n",
      "predicted=3727046.187661, expected=3738355.000000\n",
      "predicted=3743296.065360, expected=3364432.000000\n",
      "predicted=3579599.145315, expected=3734147.000000\n",
      "predicted=3651513.655341, expected=3868199.000000\n",
      "predicted=3731848.109843, expected=3833014.000000\n",
      "predicted=3768257.268666, expected=3803326.000000\n",
      "predicted=3781970.081121, expected=4169879.000000\n",
      "predicted=3937997.127200, expected=4000116.000000\n",
      "predicted=3968577.258078, expected=4086613.000000\n",
      "predicted=4029655.929727, expected=4152323.000000\n",
      "predicted=4075718.273754, expected=4029759.000000\n",
      "predicted=4062088.657121, expected=4064417.000000\n",
      "predicted=4075484.293354, expected=3855688.000000\n",
      "predicted=3979439.349301, expected=3658322.000000\n",
      "predicted=3856119.700063, expected=3691344.000000\n",
      "predicted=3790059.441052, expected=3995744.000000\n",
      "predicted=3868324.861884, expected=3959344.000000\n",
      "predicted=3896272.476442, expected=4019136.000000\n",
      "predicted=3942122.217313, expected=3985551.000000\n",
      "predicted=3953645.912937, expected=3817737.000000\n",
      "predicted=3905742.845438, expected=4085653.000000\n",
      "predicted=3992589.177336, expected=4067199.000000\n",
      "predicted=4015202.480673, expected=4036851.000000\n",
      "predicted=4029225.346579, expected=4689896.000000\n",
      "predicted=4299259.865986, expected=3943258.000000\n",
      "predicted=4137199.678785, expected=3852347.000000\n",
      "predicted=4054098.785389, expected=3906873.000000\n",
      "predicted=3986009.625255, expected=3949023.000000\n",
      "predicted=3978637.343762, expected=4118157.000000\n",
      "predicted=4042665.438418, expected=4835315.000000\n",
      "predicted=4342284.884945, expected=3949126.000000\n",
      "predicted=4163496.370960, expected=4097543.000000\n",
      "predicted=4169229.346709, expected=6653824.000000\n",
      "predicted=5179471.645116, expected=4079063.000000\n",
      "predicted=4690711.646790, expected=4039747.000000\n",
      "predicted=4563344.011497, expected=4068679.000000\n",
      "predicted=4282607.610753, expected=4296235.000000\n",
      "predicted=4333435.970762, expected=4526744.000000\n",
      "predicted=4442542.403127, expected=4114798.000000\n",
      "predicted=4224799.752070, expected=4247353.000000\n",
      "predicted=4250294.753707, expected=4247925.000000\n",
      "predicted=4244224.810531, expected=4135426.000000\n",
      "predicted=4214533.204038, expected=4449261.000000\n",
      "predicted=4311545.895402, expected=4289054.000000\n",
      "predicted=4282555.272576, expected=4416380.000000\n",
      "predicted=4351934.862293, expected=4290315.000000\n",
      "predicted=4319130.349718, expected=4229965.000000\n",
      "predicted=4292824.377717, expected=4295073.000000\n",
      "predicted=4299745.581444, expected=4076228.000000\n",
      "predicted=4204635.147045, expected=4071290.000000\n",
      "predicted=4159460.961026, expected=3536412.000000\n",
      "predicted=3898188.097480, expected=3838629.000000\n",
      "predicted=3887659.304971, expected=4053529.000000\n",
      "predicted=3933338.094099, expected=4117363.000000\n",
      "predicted=4000859.006113, expected=3910091.000000\n",
      "predicted=3955585.879636, expected=4037242.000000\n",
      "predicted=3986636.717849, expected=3605748.000000\n",
      "predicted=3839049.908531, expected=3573318.000000\n",
      "predicted=3753388.188541, expected=3665660.000000\n",
      "predicted=3708014.405095, expected=5437735.000000\n",
      "predicted=4401605.010242, expected=4065770.000000\n",
      "predicted=4213224.184051, expected=3893277.000000\n",
      "predicted=4140916.061408, expected=3180385.000000\n",
      "predicted=3740470.638276, expected=3235053.000000\n",
      "predicted=3592099.648784, expected=3289105.000000\n",
      "predicted=3488671.122149, expected=3139526.000000\n",
      "predicted=3294695.697063, expected=3189467.000000\n",
      "predicted=3236015.968744, expected=3451376.000000\n",
      "predicted=3298036.417476, expected=3418822.000000\n"
     ]
    }
   ],
   "source": [
    "for t in range(len(test)):\n",
    "\tmodel = ARIMA(history, order=(5,1,0))\n",
    "\tmodel_fit = model.fit(disp=0)\n",
    "\toutput = model_fit.forecast()\n",
    "\tyhat = output[0]\n",
    "\tpredictions.append(yhat)\n",
    "\tobs = test[t]\n",
    "\thistory.append(obs)\n",
    "\tprint('predicted=%f, expected=%f' % (yhat, obs))"
   ]
  },
  {
   "cell_type": "code",
   "execution_count": 25,
   "metadata": {},
   "outputs": [
    {
     "name": "stdout",
     "output_type": "stream",
     "text": [
      "Test MSE: 235250169402.881\n",
      "[6637047, 6874475, 6763063, 6576047, 6829771, 6475175, 6321622, 5972486, 5803773, 5600363, 6104063, 8321409, 6315864, 6318484, 6032768, 6085669, 6036358, 5885162, 5715378, 5925397, 5493840, 5306576, 5243483, 5147062, 5138583, 5171482, 5094510, 5105696, 4871717, 4473845, 4104507, 4630157, 4618655, 4001553, 6154463, 3989028, 3865722, 3741929, 3728247, 3686519, 3599447, 3648140, 3626721, 3639331, 3593944, 3264646, 3481016, 3430528, 3405732, 5757516, 3392033, 3353910, 3410352, 3282184, 3224506, 3025164, 3156792, 3153971, 2918081, 2967335, 2866041, 3004253, 3286683, 3012561, 2961902, 2710102, 2781853, 2621633, 2642317, 2377301, 2498598, 2539792, 2527240, 2561906, 2614568, 2670036, 2565484, 2601170, 2480309, 2430907, 2399148, 2299279, 2379524, 2368972, 2408194, 2464838, 2517317, 2393432, 2349096, 2356812, 2354409, 2383089, 4448578, 2574343, 2395339, 2416073, 2376222, 2412352, 2524254, 2490972, 2582302, 2818836, 2751169, 2885448, 3086927, 3292707, 3566319, 3841514, 3836190, 4003899, 4233746, 4256089, 4206292, 6336174, 4393720, 4499838, 4707863, 4716895, 4732012, 4737305, 4678054, 4820372, 7150043, 4904830, 5019468, 4974760, 5063748, 5213251, 5296818, 5454355, 5834602, 5388420, 5247245, 5175689, 4908481, 4940333, 4966818, 4855836, 4994940, 5226147, 4758026, 4878174, 4769399, 5095906, 4982473, 4490630, 4720323, 4948818, 4796986, 4708205, 4739740, 5021855, 5199542, 4566245, 4631768, 4596457, 4779314, 4726596, 4677010, 4506563, 4505266, 4283906, 4322331, 4197851, 4251287, 4036503, 3843177, 3856462, 3800618, 3867455, 3535105, 3438693, 4576502, 3412505, 3283120, 3360540, 3092986, 5205735, 2731595, 2972935, 3129482, 3168418, 3168669, 3233188, 3094442, 3135362, 3064914, 2988468, 2990108, 3006193, 2735469, 2758403, 2864367, 2796601, 2774593, 2812681, 2770309, 2798016, 2752323, 3401564, 3395749, 3388508, 3132141, 3119332, 3143284, 3648427, 3337732, 3098368, 3053017, 3714756, 3025395, 3061584, 2962317, 3041632, 3069289, 2941770, 3005164, 2980016, 2999325, 3034137, 2846446, 2850982, 2852168, 2797597, 2795649, 2882909, 2818225, 2323237, 2605463, 2688611, 2804299, 2723513, 2840604, 2994830, 2672334, 2662114, 2751818, 2774554, 2707560, 2600790, 2595400, 2883669, 5386107, 3145329, 2999293, 2983620, 2938449, 3087516, 3137706, 3094767, 3091963, 3031140, 3308368, 4337832, 2888114, 2956145, 3002983, 3247529, 3482076, 3589264, 3719342, 3757256, 3711086, 3659907, 3586234, 3626204, 3721123, 3849593, 3738423, 3786889, 3819992, 3610760, 3903473, 3648754, 3738355, 3364432, 3734147, 3868199, 3833014, 3803326, 4169879, 4000116, 4086613, 4152323, 4029759, 4064417, 3855688, 3658322, 3691344, 3995744, 3959344, 4019136, 3985551, 3817737, 4085653, 4067199, 4036851, 4689896, 3943258, 3852347, 3906873, 3949023, 4118157, 4835315, 3949126, 4097543, 6653824, 4079063, 4039747, 4068679, 4296235, 4526744, 4114798, 4247353, 4247925, 4135426, 4449261, 4289054, 4416380, 4290315, 4229965, 4295073, 4076228, 4071290, 3536412, 3838629, 4053529, 4117363, 3910091, 4037242, 3605748, 3573318, 3665660, 5437735, 4065770, 3893277, 3180385, 3235053, 3289105, 3139526, 3189467, 3451376, 3418822]\n",
      "[ -177701    30197   -68944  -206546    29014  -264545  -306157  -544556\n",
      "  -476705  -469179   231027  2353055  -685772  -306483  -546248  -242602\n",
      "  -194060  -352378  -298016    33868  -409816  -413415  -309781  -271503\n",
      "  -153592   -65530  -101481   -40076  -259381  -540733  -678623   135906\n",
      "    57984  -566915  1840697 -1145810  -701608  -622003  -351224  -203653\n",
      "  -289428   -37174   -40255    -3575   -47978  -354843    18651   -48835\n",
      "   -42022  2324841 -1055897  -576967  -367865  -305505  -226079  -424518\n",
      "   -20857   -16359  -240780   -84637  -152165    63901   312322   -90902\n",
      "   -89036  -313758   -99800  -225750  -111409  -322313   -56384    13094\n",
      "      275    41123    75791   110127   -43953    11115  -115859  -112837\n",
      "   -99446  -156301    -3430   -13918    40281    81544   102516   -59822\n",
      "   -79204   -38886   -23483    15868  2074125  -689007  -526067  -351698\n",
      "  -218537   -85702   -13461    30436   118978   303119   111244   202327\n",
      "   309653   389276   496391   552274   315006   344611   414317   253624\n",
      "    86865  2166223  -719788  -267360   -29403    24859    37852   -52909\n",
      "   -24968   123088  2390385  -879541  -350122  -339159   -68284   105880\n",
      "    66227   273329   530983  -139457  -222453  -223014  -396815  -202946\n",
      "  -109204  -154380    53933   260647  -305664   -56387  -157164   248606\n",
      "    19593  -481930   -40807   191168   -26380  -115099   -39099   275463\n",
      "   329234  -447386  -189531  -160044    99576    -7113   -55490  -186171\n",
      "  -112524  -289160  -132369  -203994   -58278  -246007  -332022  -175861\n",
      "  -159016   -16681  -344521  -284667   972772  -601418  -448769  -228440\n",
      "  -372823  1906056 -1408805  -504662  -219595   -38329   -44756    17271\n",
      "   -62919    -3885   -80948  -121228   -71529   -24815  -279567  -139792\n",
      "    23156   -45474   -45918    12732   -25984    12313   -40869   629719\n",
      "   363066   217532  -140623   -96368   -45457   465236   -36456  -247443\n",
      "  -197206   546782  -373456  -177911  -215081   -27928     3051  -129731\n",
      "     6517   -23204    11299    38368  -162672   -87149   -54621   -81981\n",
      "   -49519    60175   -22362  -505529   -14968    68816   170356    17138\n",
      "   137448   241144  -186638  -121881     7963    33783   -48778  -134687\n",
      "   -76118   242677  2644883  -691169  -500725  -397452  -261803   -46604\n",
      "   -12098    24614    16009   -51633   246613  1168409  -757453  -356575\n",
      "  -211057   137098   292911   281500   340711   234401    86803   -12976\n",
      "   -92270   -20614    77149   175492    -3872    50773    59855  -174816\n",
      "   184992  -153460    11308  -378864   154547   216685   101165    35068\n",
      "   387908    62118   118035   122667   -45959     2328  -219796  -321117\n",
      "  -164775   205684    91019   122863    43428  -135908   179910    74609\n",
      "    21648   660670  -356001  -284852  -147225   -36986   139519   792649\n",
      "  -393158   -65953  2484594 -1100408  -650964  -494665    13627   193308\n",
      "  -327744    22553    -2369  -108798   234727   -22491   133824   -61619\n",
      "   -89165     2248  -223517  -133345  -623048   -59559   165869   184024\n",
      "   -90768    81656  -380888  -265731   -87728  1729720  -335835  -319947\n",
      "  -960531  -505417  -302994  -349145  -105228   215360   120785]\n"
     ]
    }
   ],
   "source": [
    "import numpy as np\n",
    "\n",
    "err = []\n",
    "counter = 0 \n",
    "for i in predictions:\n",
    "        err.append(int(test[counter]-i))\n",
    "        counter = counter + 1\n",
    "                   \n",
    "                   \n",
    "error = mean_squared_error(test, predictions)\n",
    "print('Test MSE: %.3f' % error)\n",
    "\n",
    "print(test)\n",
    "\n",
    "err2 = np.array(err)\n",
    "print(err2)"
   ]
  },
  {
   "cell_type": "code",
   "execution_count": 30,
   "metadata": {},
   "outputs": [
    {
     "data": {
      "image/png": "[encoded data removed]",
      "text/plain": [
       "<Figure size 432x288 with 3 Axes>"
      ]
     },
     "metadata": {
      "needs_background": "light"
     },
     "output_type": "display_data"
    }
   ],
   "source": [
    "plt.subplots_adjust(wspace=0.4, hspace=0.6)\n",
    "\n",
    "plt.subplot(3, 1, 1)\n",
    "plt.title(\"traffic\")\n",
    "plt.plot(test)\n",
    "\n",
    "plt.subplot(3, 1, 2)\n",
    "plt.title(\"Predicted\")\n",
    "plt.plot(predictions)\n",
    "\n",
    "plt.subplot(3, 1, 3)\n",
    "plt.title(\"Error (MSE)\")\n",
    "plt.plot(err)\n",
    "\n",
    "#pyplot.plot(test)\n",
    "#pyplot.plot(predictions, color='red')\n",
    "plt.show()"
   ]
  },
  {
   "cell_type": "code",
   "execution_count": 31,
   "metadata": {},
   "outputs": [
    {
     "name": "stdout",
     "output_type": "stream",
     "text": [
      "1008\n"
     ]
    }
   ],
   "source": [
    "print(len(P))"
   ]
  }
 ],
 "metadata": {
  "kernelspec": {
   "display_name": "Python 3",
   "language": "python",
   "name": "python3"
  },
  "language_info": {
   "codemirror_mode": {
    "name": "ipython",
    "version": 3
   },
   "file_extension": ".py",
   "mimetype": "text/x-python",
   "name": "python",
   "nbconvert_exporter": "python",
   "pygments_lexer": "ipython3",
   "version": "3.8.5"
  }
 },
 "nbformat": 4,
 "nbformat_minor": 4
}
