{
 "cells": [
  {
   "cell_type": "code",
   "execution_count": 35,
   "metadata": {},
   "outputs": [],
   "source": [
    "import numpy as np      \n",
    "import pandas as pd     \n",
    "import matplotlib.pyplot as plt  #Library for visualization\n",
    "\n",
    "from sklearn import datasets\n",
    "\n",
    "iris = datasets.load_iris()\n",
    "X_w = iris.data[:, :2]  #load the first two features of the iris data \n",
    "y_w = iris.target         #load the target of the iris data\n",
    "\n",
    "X = iris.data[:, :2]  #load the first two features of the iris data \n",
    "y = iris.target         #load the target of the iris data\n"
   ]
  },
  {
   "cell_type": "code",
   "execution_count": 36,
   "metadata": {},
   "outputs": [
    {
     "data": {
      "text/plain": [
       "<matplotlib.collections.PathCollection at 0x29ada2bdac0>"
      ]
     },
     "execution_count": 36,
     "metadata": {},
     "output_type": "execute_result"
    },
    {
     "data": {
      "image/png": "[encoded data removed]",
      "text/plain": [
       "<Figure size 720x504 with 1 Axes>"
      ]
     },
     "metadata": {
      "needs_background": "light"
     },
     "output_type": "display_data"
    }
   ],
   "source": [
    "X_0 = X[y == 0]\n",
    "X_1 = X[y == 1]\n",
    "#to visualize within IPython\n",
    "%matplotlib inline            \n",
    "plt.figure(figsize=(10,7))   #change figure-size for easier viewing\n",
    "plt.scatter(X_0[:,0],X_0[:,1], color = 'red')\n",
    "plt.scatter(X_1[:,0],X_1[:,1], color = 'blue')"
   ]
  },
  {
   "cell_type": "code",
   "execution_count": 37,
   "metadata": {},
   "outputs": [],
   "source": [
    "from sklearn.model_selection import train_test_split\n",
    "X_train, X_test, y_train, y_test = train_test_split(X, y, test_size=0.25, random_state=7,stratify=y)\n",
    "\n",
    "X_train_2, X_test_2, y_train_2, y_test_2 = train_test_split(X_train, y_train, test_size=0.25, random_state=7)"
   ]
  },
  {
   "cell_type": "code",
   "execution_count": 38,
   "metadata": {},
   "outputs": [
    {
     "data": {
      "text/plain": [
       "SVC(kernel='linear', random_state=7)"
      ]
     },
     "execution_count": 38,
     "metadata": {},
     "output_type": "execute_result"
    }
   ],
   "source": [
    "from sklearn.svm import SVC\n",
    "\n",
    "svm_inst = SVC(kernel='linear', random_state=7)\n",
    "svm_inst.fit(X_train_2,y_train_2)"
   ]
  },
  {
   "cell_type": "code",
   "execution_count": 39,
   "metadata": {},
   "outputs": [],
   "source": [
    "from sklearn.linear_model import LogisticRegression\n",
    "lr_clf = LogisticRegression(random_state = 7).fit(X_train_2, y_train_2)"
   ]
  },
  {
   "cell_type": "code",
   "execution_count": 40,
   "metadata": {},
   "outputs": [
    {
     "name": "stdout",
     "output_type": "stream",
     "text": [
      "Accuracy of SVC: 0.8214285714285714\n",
      "Accuracy of LR: 0.7857142857142857\n"
     ]
    }
   ],
   "source": [
    "from sklearn.metrics import accuracy_score\n",
    "\n",
    "svc_pred = svm_inst.predict(X_test_2)\n",
    "lr_pred = lr_clf.predict(X_test_2)\n",
    "\n",
    "print(\"Accuracy of SVC:\",accuracy_score(y_test_2,svc_pred))\n",
    "print(\"Accuracy of LR:\",accuracy_score(y_test_2,lr_pred))"
   ]
  },
  {
   "cell_type": "code",
   "execution_count": 41,
   "metadata": {},
   "outputs": [
    {
     "name": "stdout",
     "output_type": "stream",
     "text": [
      "Average SVC scores:  0.7946428571428572\n",
      "Standard Deviation of SVC scores:  0.09235786100704108\n"
     ]
    }
   ],
   "source": [
    "from sklearn.model_selection import cross_val_score\n",
    "\n",
    "svc_scores = cross_val_score(svm_inst, X_train, y_train, cv=4)\n",
    "svc_scores\n",
    "print(\"Average SVC scores: \", svc_scores.mean())\n",
    "print(\"Standard Deviation of SVC scores: \", svc_scores.std())"
   ]
  },
  {
   "cell_type": "code",
   "execution_count": 42,
   "metadata": {},
   "outputs": [
    {
     "name": "stdout",
     "output_type": "stream",
     "text": [
      "Average LR scores:  0.8035714285714285\n",
      "Standard Deviation of LR scores:  0.05922544268491787\n"
     ]
    }
   ],
   "source": [
    "lr_scores = cross_val_score(lr_clf, X_train, y_train, cv=4)\n",
    "lr_scores\n",
    "print(\"Average LR scores: \", lr_scores.mean())\n",
    "print(\"Standard Deviation of LR scores: \", lr_scores.std())"
   ]
  },
  {
   "cell_type": "code",
   "execution_count": null,
   "metadata": {},
   "outputs": [],
   "source": []
  },
  {
   "cell_type": "code",
   "execution_count": null,
   "metadata": {},
   "outputs": [],
   "source": []
  }
 ],
 "metadata": {
  "kernelspec": {
   "display_name": "Python 3",
   "language": "python",
   "name": "python3"
  },
  "language_info": {
   "codemirror_mode": {
    "name": "ipython",
    "version": 3
   },
   "file_extension": ".py",
   "mimetype": "text/x-python",
   "name": "python",
   "nbconvert_exporter": "python",
   "pygments_lexer": "ipython3",
   "version": "3.8.5"
  }
 },
 "nbformat": 4,
 "nbformat_minor": 4
}
