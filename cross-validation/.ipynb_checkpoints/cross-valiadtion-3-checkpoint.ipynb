{
 "cells": [
  {
   "cell_type": "code",
   "execution_count": 1,
   "metadata": {},
   "outputs": [],
   "source": [
    "import numpy as np\n",
    "import matplotlib.pyplot as plt\n",
    "from sklearn import datasets\n",
    "\n",
    "from sklearn.model_selection import train_test_split\n",
    "from sklearn.metrics import accuracy_score\n",
    "\n",
    "#load the classifying models\n",
    "from sklearn.linear_model import LogisticRegression\n",
    "from sklearn.svm import SVC\n",
    "\n",
    "iris = datasets.load_iris()\n",
    "X = iris.data[:, :2]  #load the first two features of the iris data \n",
    "y = iris.target #load the target of the iris data\n",
    "\n",
    "#split the whole set one time\n",
    "#Note random state is 7 now\n",
    "X_train, X_test, y_train, y_test = train_test_split(X, y, test_size=0.25, random_state=7)\n",
    "\n",
    "#split the training set into parts\n",
    "X_train_2, X_test_2, y_train_2, y_test_2 = train_test_split(X_train, y_train, test_size=0.25, random_state=7)"
   ]
  },
  {
   "cell_type": "code",
   "execution_count": 2,
   "metadata": {},
   "outputs": [
    {
     "data": {
      "text/plain": [
       "SVC(kernel='linear', random_state=7)"
      ]
     },
     "execution_count": 2,
     "metadata": {},
     "output_type": "execute_result"
    }
   ],
   "source": [
    "svc_clf = SVC(kernel = 'linear',random_state = 7)\n",
    "svc_clf.fit(X_train_2, y_train_2)"
   ]
  },
  {
   "cell_type": "code",
   "execution_count": 3,
   "metadata": {},
   "outputs": [],
   "source": [
    "lr_clf = LogisticRegression(random_state = 7).fit(X_train_2, y_train_2)"
   ]
  },
  {
   "cell_type": "code",
   "execution_count": 4,
   "metadata": {},
   "outputs": [
    {
     "name": "stdout",
     "output_type": "stream",
     "text": [
      "Accuracy of SVC: 0.8571428571428571\n",
      "Accuracy of LR: 0.8928571428571429\n"
     ]
    }
   ],
   "source": [
    "svc_pred = svc_clf.predict(X_test_2)\n",
    "lr_pred = lr_clf.predict(X_test_2)\n",
    "\n",
    "print(\"Accuracy of SVC:\",accuracy_score(y_test_2,svc_pred))\n",
    "print(\"Accuracy of LR:\",accuracy_score(y_test_2,lr_pred))"
   ]
  },
  {
   "cell_type": "code",
   "execution_count": 5,
   "metadata": {},
   "outputs": [
    {
     "name": "stdout",
     "output_type": "stream",
     "text": [
      "Average SVC scores:  0.8392857142857142\n",
      "Standard Deviation of SVC scores:  0.0643848442047141\n"
     ]
    }
   ],
   "source": [
    "from sklearn.model_selection import cross_val_score\n",
    "svc_scores = cross_val_score(svc_clf, X_train, y_train, cv=4)\n",
    "print(\"Average SVC scores: \", svc_scores.mean())\n",
    "print(\"Standard Deviation of SVC scores: \", svc_scores.std())"
   ]
  },
  {
   "cell_type": "code",
   "execution_count": 6,
   "metadata": {},
   "outputs": [
    {
     "name": "stdout",
     "output_type": "stream",
     "text": [
      "Average SVC scores:  0.8482142857142856\n",
      "Standard Deviation of SVC scores:  0.05282214092053231\n"
     ]
    }
   ],
   "source": [
    "lr_scores = cross_val_score(lr_clf, X_train, y_train, cv=4)\n",
    "print(\"Average SVC scores: \", lr_scores.mean())\n",
    "print(\"Standard Deviation of SVC scores: \", lr_scores.std())"
   ]
  },
  {
   "cell_type": "code",
   "execution_count": null,
   "metadata": {},
   "outputs": [],
   "source": []
  }
 ],
 "metadata": {
  "kernelspec": {
   "display_name": "Python 3",
   "language": "python",
   "name": "python3"
  },
  "language_info": {
   "codemirror_mode": {
    "name": "ipython",
    "version": 3
   },
   "file_extension": ".py",
   "mimetype": "text/x-python",
   "name": "python",
   "nbconvert_exporter": "python",
   "pygments_lexer": "ipython3",
   "version": "3.8.5"
  }
 },
 "nbformat": 4,
 "nbformat_minor": 4
}
