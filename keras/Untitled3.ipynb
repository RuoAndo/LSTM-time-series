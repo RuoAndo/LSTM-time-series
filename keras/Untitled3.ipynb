{
 "cells": [
  {
   "cell_type": "code",
   "execution_count": 16,
   "metadata": {},
   "outputs": [],
   "source": [
    "import numpy as np\n",
    "import matplotlib.pyplot as plt\n",
    "from sklearn.model_selection import train_test_split\n",
    "import tensorflow as tf\n",
    "from tensorflow.keras import datasets\n",
    "from tensorflow.keras.models import Sequential\n",
    "from tensorflow.keras.layers import Dense, LSTM\n",
    "from tensorflow.keras import optimizers\n",
    "from tensorflow.keras.callbacks import EarlyStopping\n"
   ]
  },
  {
   "cell_type": "code",
   "execution_count": 17,
   "metadata": {},
   "outputs": [],
   "source": [
    "np.random.seed(123)\n",
    "tf.random.set_seed(123)\n",
    "\n",
    "def sin(x, T=100):\n",
    "    return np.sin(2.0 * np.pi * x / T)\n",
    "\n",
    "def toy_problem(T=100, ampl=0.05):\n",
    "    x = np.arange(0, 2*T + 1)\n",
    "    noise = ampl * np.random.uniform(low=-1.0, high=1.0,\n",
    "                                         size=len(x))\n",
    "    return sin(x) + noise"
   ]
  },
  {
   "cell_type": "code",
   "execution_count": 18,
   "metadata": {},
   "outputs": [],
   "source": [
    "T = 100\n",
    "f = toy_problem(T).astype(np.float32)\n",
    "length_of_sequences = len(f)\n",
    "maxlen = 25\n",
    "\n",
    "x = []\n",
    "t = []"
   ]
  },
  {
   "cell_type": "code",
   "execution_count": 19,
   "metadata": {},
   "outputs": [],
   "source": [
    "for i in range(length_of_sequences - maxlen):\n",
    "    x.append(f[i:i+maxlen])\n",
    "    t.append(f[i+maxlen])\n",
    "\n",
    "x = np.array(x).reshape(-1, maxlen, 1)\n",
    "t = np.array(t).reshape(-1, 1)\n",
    "\n",
    "x_train, x_val, t_train, t_val = train_test_split(x, t, test_size=0.2, shuffle=False)\n"
   ]
  },
  {
   "cell_type": "code",
   "execution_count": 20,
   "metadata": {},
   "outputs": [],
   "source": [
    "model = Sequential()\n",
    "model.add(LSTM(50, activation='tanh', recurrent_activation='sigmoid', kernel_initializer='glorot_normal', recurrent_initializer='orthogonal'))\n",
    "model.add(Dense(1, activation='linear'))"
   ]
  },
  {
   "cell_type": "code",
   "execution_count": 21,
   "metadata": {},
   "outputs": [
    {
     "name": "stdout",
     "output_type": "stream",
     "text": [
      "Epoch 1/1000\n",
      "2/2 - 4s - loss: 0.3597 - val_loss: 0.3863\n",
      "Epoch 2/1000\n",
      "2/2 - 0s - loss: 0.3042 - val_loss: 0.3231\n",
      "Epoch 3/1000\n",
      "2/2 - 0s - loss: 0.2541 - val_loss: 0.2657\n",
      "Epoch 4/1000\n",
      "2/2 - 0s - loss: 0.2077 - val_loss: 0.2122\n",
      "Epoch 5/1000\n",
      "2/2 - 0s - loss: 0.1698 - val_loss: 0.1646\n",
      "Epoch 6/1000\n",
      "2/2 - 0s - loss: 0.1393 - val_loss: 0.1225\n",
      "Epoch 7/1000\n",
      "2/2 - 0s - loss: 0.1206 - val_loss: 0.0904\n",
      "Epoch 8/1000\n",
      "2/2 - 0s - loss: 0.1114 - val_loss: 0.0701\n",
      "Epoch 9/1000\n",
      "2/2 - 0s - loss: 0.1023 - val_loss: 0.0593\n",
      "Epoch 10/1000\n",
      "2/2 - 0s - loss: 0.0894 - val_loss: 0.0527\n",
      "Epoch 11/1000\n",
      "2/2 - 0s - loss: 0.0765 - val_loss: 0.0469\n",
      "Epoch 12/1000\n",
      "2/2 - 0s - loss: 0.0666 - val_loss: 0.0409\n",
      "Epoch 13/1000\n",
      "2/2 - 0s - loss: 0.0586 - val_loss: 0.0353\n",
      "Epoch 14/1000\n",
      "2/2 - 0s - loss: 0.0522 - val_loss: 0.0303\n",
      "Epoch 15/1000\n",
      "2/2 - 0s - loss: 0.0463 - val_loss: 0.0258\n",
      "Epoch 16/1000\n",
      "2/2 - 0s - loss: 0.0407 - val_loss: 0.0220\n",
      "Epoch 17/1000\n",
      "2/2 - 0s - loss: 0.0341 - val_loss: 0.0187\n",
      "Epoch 18/1000\n",
      "2/2 - 0s - loss: 0.0272 - val_loss: 0.0153\n",
      "Epoch 19/1000\n",
      "2/2 - 0s - loss: 0.0206 - val_loss: 0.0118\n",
      "Epoch 20/1000\n",
      "2/2 - 0s - loss: 0.0144 - val_loss: 0.0084\n",
      "Epoch 21/1000\n",
      "2/2 - 0s - loss: 0.0095 - val_loss: 0.0055\n",
      "Epoch 22/1000\n",
      "2/2 - 0s - loss: 0.0056 - val_loss: 0.0037\n",
      "Epoch 23/1000\n",
      "2/2 - 0s - loss: 0.0031 - val_loss: 0.0033\n",
      "Epoch 24/1000\n",
      "2/2 - 0s - loss: 0.0020 - val_loss: 0.0035\n",
      "Epoch 25/1000\n",
      "2/2 - 0s - loss: 0.0029 - val_loss: 0.0029\n",
      "Epoch 26/1000\n",
      "2/2 - 0s - loss: 0.0044 - val_loss: 0.0023\n",
      "Epoch 27/1000\n",
      "2/2 - 0s - loss: 0.0046 - val_loss: 0.0027\n",
      "Epoch 28/1000\n",
      "2/2 - 0s - loss: 0.0039 - val_loss: 0.0030\n",
      "Epoch 29/1000\n",
      "2/2 - 0s - loss: 0.0030 - val_loss: 0.0022\n",
      "Epoch 30/1000\n",
      "2/2 - 0s - loss: 0.0018 - val_loss: 0.0015\n",
      "Epoch 31/1000\n",
      "2/2 - 0s - loss: 0.0011 - val_loss: 0.0017\n",
      "Epoch 32/1000\n",
      "2/2 - 0s - loss: 0.0011 - val_loss: 0.0025\n",
      "Epoch 33/1000\n",
      "2/2 - 0s - loss: 0.0015 - val_loss: 0.0030\n",
      "Epoch 34/1000\n",
      "2/2 - 0s - loss: 0.0018 - val_loss: 0.0029\n",
      "Epoch 35/1000\n",
      "2/2 - 0s - loss: 0.0018 - val_loss: 0.0025\n",
      "Epoch 36/1000\n",
      "2/2 - 0s - loss: 0.0016 - val_loss: 0.0021\n",
      "Epoch 37/1000\n",
      "2/2 - 0s - loss: 0.0015 - val_loss: 0.0019\n",
      "Epoch 38/1000\n",
      "2/2 - 0s - loss: 0.0013 - val_loss: 0.0018\n",
      "Epoch 39/1000\n",
      "2/2 - 0s - loss: 0.0012 - val_loss: 0.0016\n",
      "Epoch 40/1000\n",
      "2/2 - 0s - loss: 0.0011 - val_loss: 0.0014\n",
      "Epoch 41/1000\n",
      "2/2 - 0s - loss: 0.0011 - val_loss: 0.0013\n",
      "Epoch 42/1000\n",
      "2/2 - 0s - loss: 0.0011 - val_loss: 0.0013\n",
      "Epoch 43/1000\n",
      "2/2 - 0s - loss: 0.0011 - val_loss: 0.0013\n",
      "Epoch 44/1000\n",
      "2/2 - 0s - loss: 0.0011 - val_loss: 0.0013\n",
      "Epoch 45/1000\n",
      "2/2 - 0s - loss: 0.0011 - val_loss: 0.0013\n",
      "Epoch 46/1000\n",
      "2/2 - 0s - loss: 0.0011 - val_loss: 0.0014\n",
      "Epoch 47/1000\n",
      "2/2 - 0s - loss: 0.0010 - val_loss: 0.0014\n",
      "Epoch 48/1000\n",
      "2/2 - 0s - loss: 9.8476e-04 - val_loss: 0.0014\n",
      "Epoch 49/1000\n",
      "2/2 - 0s - loss: 9.8283e-04 - val_loss: 0.0015\n",
      "Epoch 50/1000\n",
      "2/2 - 0s - loss: 9.9588e-04 - val_loss: 0.0015\n",
      "Epoch 51/1000\n",
      "2/2 - 0s - loss: 0.0010 - val_loss: 0.0015\n",
      "Epoch 52/1000\n",
      "2/2 - 0s - loss: 0.0010 - val_loss: 0.0015\n",
      "Epoch 53/1000\n",
      "2/2 - 0s - loss: 9.9153e-04 - val_loss: 0.0014\n",
      "Epoch 00053: early stopping\n"
     ]
    }
   ],
   "source": [
    "optimizer = optimizers.Adam(learning_rate=0.001, beta_1=0.9, beta_2=0.999, amsgrad=True)\n",
    "\n",
    "model.compile(optimizer=optimizer,loss='mean_squared_error')\n",
    "\n",
    "es = EarlyStopping(monitor='val_loss',\n",
    "                       patience=10,\n",
    "                       verbose=1)\n",
    "\n",
    "hist = model.fit(x_train, t_train,epochs=1000, batch_size=100,verbose=2,validation_data=(x_val, t_val),callbacks=[es])"
   ]
  },
  {
   "cell_type": "code",
   "execution_count": null,
   "metadata": {},
   "outputs": [],
   "source": []
  },
  {
   "cell_type": "code",
   "execution_count": 22,
   "metadata": {},
   "outputs": [],
   "source": [
    "sin = toy_problem(T, ampl=0.)\n",
    "gen = [None for i in range(maxlen)]\n",
    "\n",
    "z = x[:1]"
   ]
  },
  {
   "cell_type": "code",
   "execution_count": 23,
   "metadata": {},
   "outputs": [
    {
     "data": {
      "text/plain": [
       "[<matplotlib.lines.Line2D at 0x16604ca64f0>]"
      ]
     },
     "execution_count": 23,
     "metadata": {},
     "output_type": "execute_result"
    },
    {
     "data": {
      "image/png": "[encoded data removed]",
      "text/plain": [
       "<Figure size 432x288 with 1 Axes>"
      ]
     },
     "metadata": {
      "needs_background": "light"
     },
     "output_type": "display_data"
    }
   ],
   "source": [
    "plt.plot(np.array(z).reshape(-1, 1))"
   ]
  },
  {
   "cell_type": "code",
   "execution_count": 24,
   "metadata": {},
   "outputs": [],
   "source": [
    "for i in range(length_of_sequences - maxlen):\n",
    "    preds = model.predict(z[-1:])\n",
    "    z = np.append(z, preds)[1:]\n",
    "    z = z.reshape(-1, maxlen, 1)\n",
    "    gen.append(preds[0, 0])"
   ]
  },
  {
   "cell_type": "code",
   "execution_count": 14,
   "metadata": {},
   "outputs": [
    {
     "data": {
      "image/png": "[encoded data removed]",
      "text/plain": [
       "<Figure size 432x288 with 1 Axes>"
      ]
     },
     "metadata": {
      "needs_background": "light"
     },
     "output_type": "display_data"
    }
   ],
   "source": [
    "fig = plt.figure()\n",
    "plt.rc('font', family='serif')\n",
    "plt.xlim([0, 2*T])\n",
    "plt.ylim([-1.5, 1.5])\n",
    "plt.plot(range(len(f)), sin,\n",
    "             color='gray',\n",
    "             linestyle='--', linewidth=0.5)\n",
    "plt.plot(range(len(f)), gen,\n",
    "             color='black', linewidth=1,\n",
    "             marker='o', markersize=1, markerfacecolor='black',\n",
    "             markeredgecolor='black')\n",
    "    # plt.savefig('output.jpg')\n",
    "plt.show()"
   ]
  },
  {
   "cell_type": "code",
   "execution_count": 28,
   "metadata": {},
   "outputs": [],
   "source": [
    "def sin(x, T=100):\n",
    "    return np.sin(2.0 * np.pi * x / T)\n",
    "\n",
    "def toy_problem(T=100, ampl=0.05):\n",
    "    x = np.arange(0, 2*T + 1)\n",
    "    noise = ampl * np.random.uniform(low=-1.0, high=1.0,\n",
    "                                         size=len(x))\n",
    "    return sin(x) + noise"
   ]
  },
  {
   "cell_type": "code",
   "execution_count": 29,
   "metadata": {},
   "outputs": [],
   "source": [
    "sin = toy_problem(T, ampl=0.)\n",
    "gen = [None for i in range(maxlen)]\n",
    "\n",
    "z = x[:1]"
   ]
  },
  {
   "cell_type": "code",
   "execution_count": 30,
   "metadata": {},
   "outputs": [],
   "source": [
    "for i in range(length_of_sequences - maxlen):\n",
    "        preds = model.predict(z[-1:])\n",
    "        z = np.append(z, preds)[1:]\n",
    "        z = z.reshape(-1, maxlen, 1)\n",
    "        gen.append(preds[0, 0])"
   ]
  },
  {
   "cell_type": "code",
   "execution_count": null,
   "metadata": {},
   "outputs": [],
   "source": []
  }
 ],
 "metadata": {
  "kernelspec": {
   "display_name": "Python 3",
   "language": "python",
   "name": "python3"
  },
  "language_info": {
   "codemirror_mode": {
    "name": "ipython",
    "version": 3
   },
   "file_extension": ".py",
   "mimetype": "text/x-python",
   "name": "python",
   "nbconvert_exporter": "python",
   "pygments_lexer": "ipython3",
   "version": "3.8.5"
  }
 },
 "nbformat": 4,
 "nbformat_minor": 4
}
