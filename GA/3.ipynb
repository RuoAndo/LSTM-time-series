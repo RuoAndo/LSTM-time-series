{
 "cells": [
  {
   "cell_type": "markdown",
   "metadata": {},
   "source": [
    "!pip install simpleai\n",
    "!pip install network"
   ]
  },
  {
   "cell_type": "code",
   "execution_count": 1,
   "metadata": {},
   "outputs": [],
   "source": [
    "import networkx as nx\n",
    "import numpy as np\n",
    "import random\n",
    "import copy\n",
    "from simpleai.search import SearchProblem\n",
    "from simpleai.search.local import genetic"
   ]
  },
  {
   "cell_type": "code",
   "execution_count": 2,
   "metadata": {},
   "outputs": [
    {
     "data": {
      "image/png": "[encoded data removed]",
      "text/plain": [
       "<Figure size 432x288 with 1 Axes>"
      ]
     },
     "metadata": {},
     "output_type": "display_data"
    }
   ],
   "source": [
    "# グラフの初期化\n",
    "graph = nx.Graph()\n",
    "\n",
    "# ノード\n",
    "nodes = [\"A\", \"B\", \"C\", \"D\", \"E\", \"F\", \"G\", \"H\", \"I\", \"J\"]\n",
    "\n",
    "# ノードの位置\n",
    "pos ={\n",
    "  \"A\": (17, 72),\n",
    "  \"B\": (97, 8),\n",
    "  \"C\": (32, 15),\n",
    "  \"D\": (63, 97),\n",
    "  \"E\": (57, 60),\n",
    "  \"F\": (83, 48),\n",
    "  \"G\": (100, 26),\n",
    "  \"H\": (12, 62),\n",
    "  \"I\": (3, 49),\n",
    "  \"J\": (55, 77)\n",
    "}\n",
    "\n",
    "# 経路\n",
    "route = [(\"A\", \"B\"), (\"B\", \"C\"), (\"C\", \"D\"), (\"D\", \"E\"), (\"E\", \"F\"), (\"F\", \"G\"), (\"G\", \"H\"), (\"H\", \"I\"), (\"I\", \"J\"), (\"J\", \"A\")]\n",
    "graph.add_edges_from(route)\n",
    "\n",
    "# 描画\n",
    "nx.draw(graph, pos=pos, with_labels=True)"
   ]
  },
  {
   "cell_type": "code",
   "execution_count": 3,
   "metadata": {},
   "outputs": [
    {
     "name": "stdout",
     "output_type": "stream",
     "text": [
      "[0, 0, 0, 0, 0, 0, 0, 0, 0, 0]\n"
     ]
    }
   ],
   "source": [
    "# 経路から個体（遺伝子）へ\n",
    "def toGene(route):\n",
    "\n",
    "  destinations = list(copy.deepcopy(graph.nodes))\n",
    "  gene = []\n",
    "\n",
    "  for edge in route:\n",
    "    index = destinations.index(edge[0])\n",
    "    destinations.pop(index)\n",
    "    gene.append(index)\n",
    "\n",
    "  return gene\n",
    "\n",
    "gene = toGene(route)\n",
    "print(gene)"
   ]
  },
  {
   "cell_type": "code",
   "execution_count": 4,
   "metadata": {},
   "outputs": [
    {
     "name": "stdout",
     "output_type": "stream",
     "text": [
      "[('A', 'B'), ('B', 'C'), ('C', 'D'), ('D', 'E'), ('E', 'F'), ('F', 'G'), ('G', 'H'), ('H', 'I'), ('I', 'J'), ('J', 'A')]\n"
     ]
    }
   ],
   "source": [
    "# 個体（遺伝子）から経路へ\n",
    "def toRoute(gene):\n",
    "  destinations = list(copy.deepcopy(graph.nodes))\n",
    "  nodes = []\n",
    "\n",
    "  for index in gene:\n",
    "    node = destinations[index]\n",
    "    destinations.pop(index)\n",
    "    nodes.append(node)\n",
    "\n",
    "  route = []\n",
    "\n",
    "  for i, node in enumerate(nodes):\n",
    "    edge = ((nodes[i], nodes[(i+1) % len(nodes)]))\n",
    "    route.append(edge)\n",
    "\n",
    "  return route\n",
    "\n",
    "route = toRoute(gene)\n",
    "print(route)"
   ]
  },
  {
   "cell_type": "code",
   "execution_count": 5,
   "metadata": {},
   "outputs": [
    {
     "name": "stdout",
     "output_type": "stream",
     "text": [
      "[4, 8, 7, 2, 0, 4, 2, 2, 0, 0]\n",
      "[('E', 'J'), ('J', 'I'), ('I', 'C'), ('C', 'A'), ('A', 'H'), ('H', 'F'), ('F', 'G'), ('G', 'B'), ('B', 'D'), ('D', 'E')]\n"
     ]
    }
   ],
   "source": [
    "# ランダムに個体を生成\n",
    "def randomGene():\n",
    "    destinations = list(copy.deepcopy(graph.nodes))\n",
    "    gene = []\n",
    "\n",
    "    for i in range(len(destinations)):\n",
    "      node = random.choice(destinations)\n",
    "      index = destinations.index(node)\n",
    "      destinations.pop(index)\n",
    "      gene.append(index)\n",
    "\n",
    "    return gene\n",
    "\n",
    "gene = randomGene()\n",
    "print(gene)\n",
    "print(toRoute(gene))"
   ]
  },
  {
   "cell_type": "code",
   "execution_count": 6,
   "metadata": {},
   "outputs": [
    {
     "name": "stdout",
     "output_type": "stream",
     "text": [
      "distance=557.6889363201603\n"
     ]
    }
   ],
   "source": [
    "# 経路距離\n",
    "def distance(route):\n",
    "  d = 0\n",
    "\n",
    "  for edge in route:\n",
    "    pos_head = np.array(pos[edge[0]])\n",
    "    pos_tail = np.array(pos[edge[1]])\n",
    "    d += np.linalg.norm(pos_tail - pos_head)\n",
    "\n",
    "  return d\n",
    "\n",
    "d = distance(route)\n",
    "print(f\"distance={d}\")"
   ]
  },
  {
   "cell_type": "code",
   "execution_count": 8,
   "metadata": {},
   "outputs": [],
   "source": [
    "class TSProblem(SearchProblem):\n",
    "    def value(self, state):\n",
    "\n",
    "      route = toRoute(state)\n",
    "      value = -1 * distance(route)\n",
    "\n",
    "      #--------------------\n",
    "      # 途中経過の出力\n",
    "      global max_state\n",
    "      global max_value\n",
    "\n",
    "      if max_value < value:\n",
    "        max_state = state\n",
    "        max_value = value\n",
    "        print(f\"max state: {max_state}({max_value:.3f})\")\n",
    "  #--------------------\n",
    "\n",
    "      return value\n",
    "\n",
    "\n",
    "    def generate_random_state(self):\n",
    "\n",
    "      gene = randomGene()\n",
    "      return gene\n",
    "    \n",
    "    def crossover(self, state1, state2):\n",
    "\n",
    "      child = []\n",
    "\n",
    "      index = np.random.randint(0, len(state1))\n",
    "\n",
    "      for i in range(0, index):\n",
    "        child.append(state1[i])\n",
    "\n",
    "      for i in range(index, len(state2)):\n",
    "        child.append(state2[i])\n",
    "\n",
    "      return child\n",
    "\n",
    "    def mutate(self, state):\n",
    "\n",
    "      child = list(copy.deepcopy(state))\n",
    "\n",
    "      index = np.random.randint(0, len(child))\n",
    "      max = len(child) - index\n",
    "      child[index] = np.random.randint(0, max)\n",
    "\n",
    "      return child\n"
   ]
  },
  {
   "cell_type": "code",
   "execution_count": 10,
   "metadata": {},
   "outputs": [
    {
     "name": "stdout",
     "output_type": "stream",
     "text": [
      "max state: [1, 6, 3, 6, 2, 0, 0, 2, 0, 0](-466.445)\n",
      "max state: [1, 5, 7, 2, 4, 4, 1, 1, 0, 0](-436.004)\n",
      "max state: [0, 8, 7, 1, 2, 3, 0, 1, 0, 0](-434.958)\n",
      "max state: [2, 5, 1, 1, 5, 3, 0, 2, 0, 0](-432.084)\n",
      "max state: [2, 8, 5, 1, 3, 1, 1, 1, 1, 0](-431.901)\n",
      "max state: [2, 0, 2, 5, 4, 4, 1, 1, 0, 0](-421.140)\n",
      "max state: [5, 1, 4, 1, 4, 1, 3, 1, 0, 0](-415.003)\n",
      "max state: [2, 5, 1, 3, 0, 3, 2, 1, 1, 0](-413.843)\n",
      "max state: [6, 5, 4, 3, 5, 4, 3, 0, 1, 0](-344.078)\n"
     ]
    }
   ],
   "source": [
    "START = toGene(route)\n",
    "\n",
    "max_state = START\n",
    "max_value = -1000\n",
    "problem = TSProblem(initial_state=START)\n",
    "result = genetic(problem, population_size=300, mutation_chance=0.4, iterations_limit=100)"
   ]
  },
  {
   "cell_type": "code",
   "execution_count": 11,
   "metadata": {},
   "outputs": [
    {
     "name": "stdout",
     "output_type": "stream",
     "text": [
      "[('D', 'A'), ('A', 'I'), ('I', 'C'), ('C', 'H'), ('H', 'J'), ('J', 'E'), ('E', 'F'), ('F', 'B'), ('B', 'G'), ('G', 'D')]\n"
     ]
    },
    {
     "data": {
      "image/png": "[encoded data removed]",
      "text/plain": [
       "<Figure size 432x288 with 1 Axes>"
      ]
     },
     "metadata": {},
     "output_type": "display_data"
    }
   ],
   "source": [
    "route = toRoute(result.state)\n",
    "print(route)\n",
    "\n",
    "# グラフの初期化\n",
    "graph.clear()\n",
    "\n",
    "# ノードの設定\n",
    "graph.add_nodes_from(nodes)\n",
    "\n",
    "# 経路の設定\n",
    "graph.add_edges_from(route)\n",
    "\n",
    "# 描画\n",
    "nx.draw(graph, pos=pos, with_labels=True)"
   ]
  },
  {
   "cell_type": "code",
   "execution_count": null,
   "metadata": {},
   "outputs": [],
   "source": []
  }
 ],
 "metadata": {
  "kernelspec": {
   "display_name": "Python 3",
   "language": "python",
   "name": "python3"
  },
  "language_info": {
   "codemirror_mode": {
    "name": "ipython",
    "version": 3
   },
   "file_extension": ".py",
   "mimetype": "text/x-python",
   "name": "python",
   "nbconvert_exporter": "python",
   "pygments_lexer": "ipython3",
   "version": "3.8.5"
  }
 },
 "nbformat": 4,
 "nbformat_minor": 4
}
