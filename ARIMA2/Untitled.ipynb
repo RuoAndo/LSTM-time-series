{
 "cells": [
  {
   "cell_type": "code",
   "execution_count": 1,
   "metadata": {},
   "outputs": [
    {
     "name": "stderr",
     "output_type": "stream",
     "text": [
      "<ipython-input-1-1f2a79e79243>:2: FutureWarning: The pandas.datetime class is deprecated and will be removed from pandas in a future version. Import from datetime module instead.\n",
      "  from pandas import datetime\n"
     ]
    }
   ],
   "source": [
    "from pandas import read_csv\n",
    "from pandas import datetime\n",
    "#from matplotlib import pyplot\n",
    "import matplotlib.pyplot as plt\n",
    "import numpy as np\n",
    "\n",
    "from statsmodels.tsa.arima_model import ARIMA\n",
    "from sklearn.metrics import mean_squared_error\n",
    "\n",
    "def parser(p):\n",
    "\treturn datetime.strptime(p,'%Y-%m')"
   ]
  },
  {
   "cell_type": "code",
   "execution_count": 3,
   "metadata": {},
   "outputs": [],
   "source": [
    "series = read_csv('4.csv', header=0, parse_dates=[0], index_col=0, squeeze=True, date_parser=parser)\n",
    "P = series.values"
   ]
  },
  {
   "cell_type": "code",
   "execution_count": 4,
   "metadata": {},
   "outputs": [
    {
     "name": "stdout",
     "output_type": "stream",
     "text": [
      "[118 132 129 121 135 148 148 136 119 104 118 115 126 141 135 125 149 170\n",
      " 170 158 133 114 140 145 150 178 163 172 178 199 199 184 162 146 166 171\n",
      " 180 193 181 183 218 230 242 209 191 172 194 196 196 236 235 229 243 264\n",
      " 272 237 211 180 201 204 188 235 227 234 264 302 293 259 229 203 229 242\n",
      " 233 267 269 270 315 364 347 312 274 237 278 284 277 317 313 318 374 413\n",
      " 405 355 306 271 306 315 301 356 348 355 422 465 467 404 347 305 336 340\n",
      " 318 362 348 363 435 491 505 404 359 310 337 360 342 406 396 420 472 548\n",
      " 559 463 407 362 405 417 391 419 461 472 535 622 606 508 461 390 432]\n"
     ]
    }
   ],
   "source": [
    "print(P)"
   ]
  },
  {
   "cell_type": "code",
   "execution_count": 5,
   "metadata": {},
   "outputs": [],
   "source": [
    "size = int(len(P) * 0.5)\n",
    "train, test = P[0:size], P[size:len(P)]\n",
    "history = [p for p in train]\n",
    "predictions = list()"
   ]
  },
  {
   "cell_type": "code",
   "execution_count": 6,
   "metadata": {},
   "outputs": [
    {
     "name": "stderr",
     "output_type": "stream",
     "text": [
      "C:\\ProgramData\\Anaconda3\\lib\\site-packages\\statsmodels\\tsa\\arima_model.py:472: FutureWarning: \n",
      "statsmodels.tsa.arima_model.ARMA and statsmodels.tsa.arima_model.ARIMA have\n",
      "been deprecated in favor of statsmodels.tsa.arima.model.ARIMA (note the .\n",
      "between arima and model) and\n",
      "statsmodels.tsa.SARIMAX. These will be removed after the 0.12 release.\n",
      "\n",
      "statsmodels.tsa.arima.model.ARIMA makes use of the statespace framework and\n",
      "is both well tested and maintained.\n",
      "\n",
      "To silence this warning and continue using ARMA and ARIMA until they are\n",
      "removed, use:\n",
      "\n",
      "import warnings\n",
      "warnings.filterwarnings('ignore', 'statsmodels.tsa.arima_model.ARMA',\n",
      "                        FutureWarning)\n",
      "warnings.filterwarnings('ignore', 'statsmodels.tsa.arima_model.ARIMA',\n",
      "                        FutureWarning)\n",
      "\n",
      "  warnings.warn(ARIMA_DEPRECATION_WARN, FutureWarning)\n"
     ]
    },
    {
     "name": "stdout",
     "output_type": "stream",
     "text": [
      "predicted=253.189775, expected=242.000000\n",
      "predicted=252.515324, expected=233.000000\n",
      "predicted=234.155012, expected=267.000000\n",
      "predicted=268.621583, expected=269.000000\n",
      "predicted=261.636690, expected=270.000000\n",
      "predicted=271.780201, expected=315.000000\n",
      "predicted=314.221786, expected=364.000000\n",
      "predicted=368.555941, expected=347.000000\n",
      "predicted=335.001211, expected=312.000000\n",
      "predicted=301.158834, expected=274.000000\n",
      "predicted=265.847981, expected=237.000000\n",
      "predicted=243.983533, expected=278.000000\n",
      "predicted=312.880570, expected=284.000000\n",
      "predicted=291.774424, expected=277.000000\n",
      "predicted=284.650026, expected=317.000000\n",
      "predicted=316.369900, expected=313.000000\n",
      "predicted=303.118826, expected=318.000000\n",
      "predicted=324.813317, expected=374.000000\n",
      "predicted=372.977193, expected=413.000000\n",
      "predicted=414.942799, expected=405.000000\n",
      "predicted=397.528932, expected=355.000000\n",
      "predicted=332.087260, expected=306.000000\n",
      "predicted=299.398526, expected=271.000000\n",
      "predicted=279.853392, expected=306.000000\n",
      "predicted=346.899153, expected=315.000000\n",
      "predicted=325.776468, expected=301.000000\n",
      "predicted=305.886438, expected=356.000000\n",
      "predicted=365.053146, expected=348.000000\n",
      "predicted=330.421422, expected=355.000000\n",
      "predicted=368.159278, expected=422.000000\n",
      "predicted=417.177430, expected=465.000000\n",
      "predicted=468.836157, expected=467.000000\n",
      "predicted=462.697977, expected=404.000000\n",
      "predicted=368.306261, expected=347.000000\n",
      "predicted=340.286816, expected=305.000000\n",
      "predicted=308.828859, expected=336.000000\n",
      "predicted=383.307002, expected=340.000000\n",
      "predicted=351.801731, expected=318.000000\n",
      "predicted=322.781089, expected=362.000000\n",
      "predicted=372.826634, expected=348.000000\n",
      "predicted=333.294081, expected=363.000000\n",
      "predicted=382.476521, expected=435.000000\n",
      "predicted=435.704003, expected=491.000000\n",
      "predicted=501.977875, expected=505.000000\n",
      "predicted=497.705158, expected=404.000000\n",
      "predicted=347.148761, expected=359.000000\n",
      "predicted=364.745582, expected=310.000000\n",
      "predicted=307.243362, expected=337.000000\n",
      "predicted=394.571788, expected=360.000000\n",
      "predicted=377.733214, expected=342.000000\n",
      "predicted=343.968031, expected=406.000000\n",
      "predicted=419.203928, expected=396.000000\n",
      "predicted=377.233403, expected=420.000000\n",
      "predicted=433.766394, expected=472.000000\n",
      "predicted=461.958613, expected=548.000000\n",
      "predicted=569.718212, expected=559.000000\n",
      "predicted=544.076755, expected=463.000000\n",
      "predicted=418.361906, expected=407.000000\n",
      "predicted=395.534081, expected=362.000000\n",
      "predicted=369.126516, expected=405.000000\n",
      "predicted=462.540427, expected=417.000000\n",
      "predicted=430.295227, expected=391.000000\n",
      "predicted=386.863221, expected=419.000000\n",
      "predicted=420.173036, expected=461.000000\n",
      "predicted=470.775462, expected=472.000000\n",
      "predicted=474.011825, expected=535.000000\n",
      "predicted=543.790575, expected=622.000000\n",
      "predicted=632.774165, expected=606.000000\n",
      "predicted=582.881048, expected=508.000000\n",
      "predicted=464.235315, expected=461.000000\n",
      "predicted=454.921677, expected=390.000000\n",
      "predicted=387.979289, expected=432.000000\n"
     ]
    }
   ],
   "source": [
    "for t in range(len(test)):\n",
    "\tmodel = ARIMA(history, order=(5,1,0))\n",
    "\tmodel_fit = model.fit(disp=0)\n",
    "\toutput = model_fit.forecast()\n",
    "\tyhat = output[0]\n",
    "\tpredictions.append(yhat)\n",
    "\tobs = test[t]\n",
    "\thistory.append(obs)\n",
    "\tprint('predicted=%f, expected=%f' % (yhat, obs))"
   ]
  },
  {
   "cell_type": "code",
   "execution_count": 7,
   "metadata": {},
   "outputs": [],
   "source": [
    "err = []\n",
    "counter = 0 \n",
    "for i in predictions:\n",
    "        err.append(int(test[counter]-i))\n",
    "        counter = counter + 1"
   ]
  },
  {
   "cell_type": "code",
   "execution_count": 8,
   "metadata": {},
   "outputs": [
    {
     "name": "stdout",
     "output_type": "stream",
     "text": [
      "Test MSE: 1616.252\n",
      "[242 233 267 269 270 315 364 347 312 274 237 278 284 277 317 313 318 374\n",
      " 413 405 355 306 271 306 315 301 356 348 355 422 465 467 404 347 305 336\n",
      " 340 318 362 348 363 435 491 505 404 359 310 337 360 342 406 396 420 472\n",
      " 548 559 463 407 362 405 417 391 419 461 472 535 622 606 508 461 390 432]\n",
      "[-11 -19  32   0   8  43  49 -21 -23 -27 -28  34 -28 -14  32  -3  14  49\n",
      "  40  -9 -42 -26 -28  26 -31 -24  50 -17  24  53  47  -1 -58 -21 -35  27\n",
      " -43 -33  39 -24  29  52  55   3 -93  11 -54  29 -34 -35  62 -23  42  38\n",
      "  86 -10 -81 -11 -33  35 -45 -39  32  40   1  60  78 -26 -74  -3 -64  44]\n"
     ]
    }
   ],
   "source": [
    "error = mean_squared_error(test, predictions)\n",
    "print('Test MSE: %.3f' % error)\n",
    "\n",
    "print(test)\n",
    "\n",
    "err2 = np.array(err)\n",
    "print(err2)"
   ]
  },
  {
   "cell_type": "code",
   "execution_count": 9,
   "metadata": {},
   "outputs": [
    {
     "data": {
      "image/png": "[encoded data removed]",
      "text/plain": [
       "<Figure size 432x288 with 3 Axes>"
      ]
     },
     "metadata": {
      "needs_background": "light"
     },
     "output_type": "display_data"
    }
   ],
   "source": [
    "plt.subplots_adjust(wspace=0.4, hspace=0.6)\n",
    "\n",
    "\n",
    "plt.subplot(3, 1, 1)\n",
    "plt.title(\"The number of daily deaths\")\n",
    "plt.plot(test)\n",
    "\n",
    "plt.subplot(3, 1, 2)\n",
    "plt.title(\"Predicted\")\n",
    "plt.plot(predictions)\n",
    "\n",
    "plt.subplot(3, 1, 3)\n",
    "plt.title(\"Error\")\n",
    "plt.plot(err)\n",
    "\n",
    "#pyplot.plot(test)\n",
    "#pyplot.plot(predictions, color='red')\n",
    "plt.show()"
   ]
  }
 ],
 "metadata": {
  "kernelspec": {
   "display_name": "Python 3",
   "language": "python",
   "name": "python3"
  },
  "language_info": {
   "codemirror_mode": {
    "name": "ipython",
    "version": 3
   },
   "file_extension": ".py",
   "mimetype": "text/x-python",
   "name": "python",
   "nbconvert_exporter": "python",
   "pygments_lexer": "ipython3",
   "version": "3.8.5"
  }
 },
 "nbformat": 4,
 "nbformat_minor": 4
}
