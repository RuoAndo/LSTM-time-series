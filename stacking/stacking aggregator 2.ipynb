{
 "cells": [
  {
   "cell_type": "code",
   "execution_count": null,
   "metadata": {
    "collapsed": true
   },
   "outputs": [],
   "source": [
    "Writing A Stacking Agreggator with Scikit-Learn"
   ]
  },
  {
   "cell_type": "code",
   "execution_count": 1,
   "metadata": {},
   "outputs": [],
   "source": [
    "from __future__ import division\n",
    "\n",
    "%matplotlib inline\n",
    "\n",
    "import numpy as np\n",
    "import pandas as pd\n",
    "import matplotlib.pyplot as plt\n",
    "\n",
    "from sklearn.datasets import fetch_california_housing\n",
    "\n",
    "cali_housing = fetch_california_housing()\n",
    "\n",
    "X = cali_housing.data\n",
    "y = cali_housing.target\n",
    "\n",
    "bins = np.arange(6)\n",
    " \n",
    "\n",
    "from sklearn.model_selection import train_test_split\n",
    "\n",
    "binned_y = np.digitize(y, bins)\n",
    "\n",
    "from sklearn.ensemble import RandomForestRegressor, AdaBoostRegressor, ExtraTreesRegressor, GradientBoostingRegressor\n",
    " \n",
    "from sklearn.model_selection import GridSearchCV\n",
    "\n",
    "X_train_prin, X_test_prin, y_train_prin, y_test_prin = train_test_split(X, y,test_size=0.2,stratify=binned_y)\n",
    "\n",
    "binned_y_train_prin = np.digitize(y_train_prin, bins)\n",
    "X_1, X_stack, y_1, y_stack = train_test_split(X_train_prin, y_train_prin,test_size=0.33,stratify=binned_y_train_prin )"
   ]
  },
  {
   "cell_type": "code",
   "execution_count": 2,
   "metadata": {},
   "outputs": [
    {
     "data": {
      "text/plain": [
       "[<matplotlib.lines.Line2D at 0x235719c8760>]"
      ]
     },
     "execution_count": 2,
     "metadata": {},
     "output_type": "execute_result"
    },
    {
     "data": {
      "image/png": "[encoded data removed]",
      "text/plain": [
       "<Figure size 432x288 with 1 Axes>"
      ]
     },
     "metadata": {
      "needs_background": "light"
     },
     "output_type": "display_data"
    }
   ],
   "source": [
    "plt.plot(binned_y)"
   ]
  },
  {
   "cell_type": "code",
   "execution_count": 3,
   "metadata": {},
   "outputs": [
    {
     "data": {
      "text/plain": [
       "RandomizedSearchCV(cv=3,\n",
       "                   estimator=BaggingRegressor(base_estimator=KNeighborsRegressor()),\n",
       "                   n_iter=5, n_jobs=-1,\n",
       "                   param_distributions={'base_estimator__n_neighbors': [3, 5],\n",
       "                                        'max_features': [0.5, 1.0],\n",
       "                                        'max_samples': [0.5, 1.0],\n",
       "                                        'n_estimators': [100],\n",
       "                                        'oob_score': [True, False]})"
      ]
     },
     "execution_count": 3,
     "metadata": {},
     "output_type": "execute_result"
    }
   ],
   "source": [
    "from sklearn.ensemble import BaggingRegressor\n",
    "from sklearn.neighbors import KNeighborsRegressor\n",
    "\n",
    "from sklearn.model_selection import RandomizedSearchCV\n",
    "\n",
    "param_dist = {\n",
    " 'max_samples': [0.5,1.0],\n",
    " 'max_features' : [0.5,1.0],\n",
    " 'oob_score' : [True, False],\n",
    " 'base_estimator__n_neighbors': [3,5],\n",
    " 'n_estimators': [100]\n",
    " }\n",
    "\n",
    "single_estimator = KNeighborsRegressor()\n",
    "ensemble_estimator = BaggingRegressor(base_estimator = single_estimator)\n",
    "\n",
    "pre_gs_inst_bag = RandomizedSearchCV(ensemble_estimator,\n",
    " param_distributions = param_dist,\n",
    " cv=3,\n",
    " n_iter = 5,\n",
    " n_jobs=-1)\n",
    "\n",
    "pre_gs_inst_bag.fit(X_1, y_1)"
   ]
  },
  {
   "cell_type": "code",
   "execution_count": 4,
   "metadata": {},
   "outputs": [
    {
     "data": {
      "text/plain": [
       "BaggingRegressor(base_estimator=KNeighborsRegressor(n_neighbors=3),\n",
       "                 max_features=0.5, max_samples=0.5, n_estimators=3000)"
      ]
     },
     "execution_count": 4,
     "metadata": {},
     "output_type": "execute_result"
    }
   ],
   "source": [
    "rs_bag = BaggingRegressor(**{'max_features': 0.5,\n",
    " 'max_samples': 0.5,\n",
    " 'n_estimators': 3000,\n",
    " 'oob_score': False, \n",
    " 'base_estimator': KNeighborsRegressor(n_neighbors=3)})\n",
    "\n",
    "rs_bag.fit(X_1, y_1)"
   ]
  },
  {
   "cell_type": "code",
   "execution_count": 5,
   "metadata": {},
   "outputs": [
    {
     "data": {
      "text/plain": [
       "RandomizedSearchCV(cv=3, estimator=GradientBoostingRegressor(warm_start=True),\n",
       "                   n_iter=30, n_jobs=-1,\n",
       "                   param_distributions={'learning_rate': [0.01, 0.05, 0.1, 0.25,\n",
       "                                                          0.275, 0.3, 0.325],\n",
       "                                        'loss': ['ls', 'huber'],\n",
       "                                        'max_depth': [2, 3, 4, 5, 6, 7, 10],\n",
       "                                        'max_features': ['log2', 0.4, 0.5, 0.6,\n",
       "                                                         1.0],\n",
       "                                        'min_samples_leaf': [1, 2, 3, 4, 5, 10],\n",
       "                                        'n_estimators': [50, 100]})"
      ]
     },
     "execution_count": 5,
     "metadata": {},
     "output_type": "execute_result"
    }
   ],
   "source": [
    "from sklearn.ensemble import GradientBoostingRegressor\n",
    "from sklearn.model_selection import RandomizedSearchCV\n",
    "\n",
    "param_dist = {'max_features' : ['log2',0.4,0.5,0.6,1.0],\n",
    " 'max_depth' : [2,3, 4, 5,6, 7, 10],\n",
    " 'min_samples_leaf' : [1,2, 3, 4, 5, 10],\n",
    " 'n_estimators': [50, 100],\n",
    " 'learning_rate' : [0.01,0.05,0.1,0.25,0.275,0.3,0.325],\n",
    " 'loss' : ['ls','huber']\n",
    " }\n",
    "pre_gs_inst = RandomizedSearchCV(GradientBoostingRegressor(warm_start=True),param_distributions = param_dist,\n",
    " cv=3,\n",
    " n_iter = 30, n_jobs=-1)\n",
    "pre_gs_inst.fit(X_1, y_1)"
   ]
  },
  {
   "cell_type": "code",
   "execution_count": 6,
   "metadata": {},
   "outputs": [],
   "source": [
    "gbt_inst = GradientBoostingRegressor(**{'learning_rate': 0.05,\n",
    " 'loss': 'huber',\n",
    " 'max_depth': 10,\n",
    " 'max_features': 0.4,\n",
    " 'min_samples_leaf': 5,\n",
    " 'n_estimators': 3000,\n",
    " 'warm_start': True}).fit(X_1, y_1)"
   ]
  },
  {
   "cell_type": "code",
   "execution_count": 7,
   "metadata": {},
   "outputs": [],
   "source": [
    "y_pred_bag = rs_bag.predict(X_stack)\n",
    "y_pred_gbt = gbt_inst.predict(X_stack)"
   ]
  },
  {
   "cell_type": "code",
   "execution_count": 8,
   "metadata": {},
   "outputs": [
    {
     "name": "stdout",
     "output_type": "stream",
     "text": [
      "R-squared 0.5288971637150538\n",
      "MAE :  0.6052133361579095\n",
      "MAPE :  0.4037520575555524\n"
     ]
    }
   ],
   "source": [
    "from sklearn.metrics import r2_score, mean_absolute_error\n",
    "\n",
    "print(\"R-squared\",r2_score(y_stack, y_pred_bag))\n",
    "print(\"MAE : \",mean_absolute_error(y_stack, y_pred_bag))\n",
    "print(\"MAPE : \",(np.abs(y_stack- y_pred_bag)/y_stack).mean())"
   ]
  },
  {
   "cell_type": "code",
   "execution_count": 10,
   "metadata": {},
   "outputs": [
    {
     "name": "stdout",
     "output_type": "stream",
     "text": [
      "R-squared 0.839506174901222\n",
      "MAE :  0.29859060520433917\n",
      "MAPE :  0.16766680252841132\n"
     ]
    }
   ],
   "source": [
    "from sklearn.metrics import r2_score, mean_absolute_error\n",
    "\n",
    "print(\"R-squared\",r2_score(y_stack, y_pred_gbt))\n",
    "print(\"MAE : \",mean_absolute_error(y_stack, y_pred_gbt))\n",
    "print(\"MAPE : \",(np.abs(y_stack- y_pred_gbt)/y_stack).mean())"
   ]
  },
  {
   "cell_type": "code",
   "execution_count": 11,
   "metadata": {},
   "outputs": [
    {
     "data": {
      "text/html": [
       "<div>\n",
       "<style scoped>\n",
       "    .dataframe tbody tr th:only-of-type {\n",
       "        vertical-align: middle;\n",
       "    }\n",
       "\n",
       "    .dataframe tbody tr th {\n",
       "        vertical-align: top;\n",
       "    }\n",
       "\n",
       "    .dataframe thead th {\n",
       "        text-align: right;\n",
       "    }\n",
       "</style>\n",
       "<table border=\"1\" class=\"dataframe\">\n",
       "  <thead>\n",
       "    <tr style=\"text-align: right;\">\n",
       "      <th></th>\n",
       "      <th>bag</th>\n",
       "      <th>gbt</th>\n",
       "    </tr>\n",
       "  </thead>\n",
       "  <tbody>\n",
       "    <tr>\n",
       "      <th>0</th>\n",
       "      <td>2.209644</td>\n",
       "      <td>2.192007</td>\n",
       "    </tr>\n",
       "    <tr>\n",
       "      <th>1</th>\n",
       "      <td>3.696396</td>\n",
       "      <td>5.117302</td>\n",
       "    </tr>\n",
       "    <tr>\n",
       "      <th>2</th>\n",
       "      <td>1.909518</td>\n",
       "      <td>1.515199</td>\n",
       "    </tr>\n",
       "    <tr>\n",
       "      <th>3</th>\n",
       "      <td>2.609009</td>\n",
       "      <td>2.924848</td>\n",
       "    </tr>\n",
       "    <tr>\n",
       "      <th>4</th>\n",
       "      <td>1.935112</td>\n",
       "      <td>2.981249</td>\n",
       "    </tr>\n",
       "    <tr>\n",
       "      <th>...</th>\n",
       "      <td>...</td>\n",
       "      <td>...</td>\n",
       "    </tr>\n",
       "    <tr>\n",
       "      <th>5444</th>\n",
       "      <td>1.849006</td>\n",
       "      <td>2.248410</td>\n",
       "    </tr>\n",
       "    <tr>\n",
       "      <th>5445</th>\n",
       "      <td>2.029978</td>\n",
       "      <td>1.821124</td>\n",
       "    </tr>\n",
       "    <tr>\n",
       "      <th>5446</th>\n",
       "      <td>1.988274</td>\n",
       "      <td>1.634483</td>\n",
       "    </tr>\n",
       "    <tr>\n",
       "      <th>5447</th>\n",
       "      <td>2.059390</td>\n",
       "      <td>2.067197</td>\n",
       "    </tr>\n",
       "    <tr>\n",
       "      <th>5448</th>\n",
       "      <td>2.245094</td>\n",
       "      <td>2.751999</td>\n",
       "    </tr>\n",
       "  </tbody>\n",
       "</table>\n",
       "<p>5449 rows × 2 columns</p>\n",
       "</div>"
      ],
      "text/plain": [
       "           bag       gbt\n",
       "0     2.209644  2.192007\n",
       "1     3.696396  5.117302\n",
       "2     1.909518  1.515199\n",
       "3     2.609009  2.924848\n",
       "4     1.935112  2.981249\n",
       "...        ...       ...\n",
       "5444  1.849006  2.248410\n",
       "5445  2.029978  1.821124\n",
       "5446  1.988274  1.634483\n",
       "5447  2.059390  2.067197\n",
       "5448  2.245094  2.751999\n",
       "\n",
       "[5449 rows x 2 columns]"
      ]
     },
     "execution_count": 11,
     "metadata": {},
     "output_type": "execute_result"
    }
   ],
   "source": [
    "y_pred_bag = pre_gs_inst_bag.predict(X_stack)\n",
    "y_pred_gbt = gbt_inst.predict(X_stack)\n",
    "\n",
    "preds_df = pd.DataFrame(columns = ['bag', 'gbt'])\n",
    "\n",
    "preds_df['bag'] = y_pred_bag\n",
    "preds_df['gbt'] = y_pred_gbt\n",
    "\n",
    "\n",
    "preds_df"
   ]
  },
  {
   "cell_type": "code",
   "execution_count": 12,
   "metadata": {},
   "outputs": [
    {
     "data": {
      "text/html": [
       "<div>\n",
       "<style scoped>\n",
       "    .dataframe tbody tr th:only-of-type {\n",
       "        vertical-align: middle;\n",
       "    }\n",
       "\n",
       "    .dataframe tbody tr th {\n",
       "        vertical-align: top;\n",
       "    }\n",
       "\n",
       "    .dataframe thead th {\n",
       "        text-align: right;\n",
       "    }\n",
       "</style>\n",
       "<table border=\"1\" class=\"dataframe\">\n",
       "  <thead>\n",
       "    <tr style=\"text-align: right;\">\n",
       "      <th></th>\n",
       "      <th>bag</th>\n",
       "      <th>gbt</th>\n",
       "    </tr>\n",
       "  </thead>\n",
       "  <tbody>\n",
       "    <tr>\n",
       "      <th>bag</th>\n",
       "      <td>1.000000</td>\n",
       "      <td>0.889927</td>\n",
       "    </tr>\n",
       "    <tr>\n",
       "      <th>gbt</th>\n",
       "      <td>0.889927</td>\n",
       "      <td>1.000000</td>\n",
       "    </tr>\n",
       "  </tbody>\n",
       "</table>\n",
       "</div>"
      ],
      "text/plain": [
       "          bag       gbt\n",
       "bag  1.000000  0.889927\n",
       "gbt  0.889927  1.000000"
      ]
     },
     "execution_count": 12,
     "metadata": {},
     "output_type": "execute_result"
    }
   ],
   "source": [
    "preds_df.corr()"
   ]
  },
  {
   "cell_type": "code",
   "execution_count": 13,
   "metadata": {},
   "outputs": [
    {
     "data": {
      "text/plain": [
       "RandomizedSearchCV(cv=3,\n",
       "                   estimator=ExtraTreesRegressor(bootstrap=True,\n",
       "                                                 warm_start=True),\n",
       "                   n_iter=15,\n",
       "                   param_distributions={'max_features': ['sqrt', 'log2', 1.0],\n",
       "                                        'min_samples_leaf': [1, 2, 3, 7, 11],\n",
       "                                        'n_estimators': [50, 100],\n",
       "                                        'oob_score': [True, False]})"
      ]
     },
     "execution_count": 13,
     "metadata": {},
     "output_type": "execute_result"
    }
   ],
   "source": [
    "from sklearn.ensemble import ExtraTreesRegressor\n",
    "from sklearn.model_selection import RandomizedSearchCV\n",
    "\n",
    "param_dist = {'max_features' : ['sqrt','log2',1.0],\n",
    " 'min_samples_leaf' : [1, 2, 3, 7, 11],\n",
    " 'n_estimators': [50, 100],\n",
    " 'oob_score': [True, False]}\n",
    "\n",
    "pre_gs_inst = RandomizedSearchCV(ExtraTreesRegressor(warm_start=True,bootstrap=True),\n",
    " param_distributions = param_dist,\n",
    " cv=3,\n",
    " n_iter = 15)\n",
    "\n",
    "pre_gs_inst.fit(preds_df.values, y_stack)"
   ]
  },
  {
   "cell_type": "code",
   "execution_count": 14,
   "metadata": {},
   "outputs": [
    {
     "data": {
      "text/plain": [
       "{'oob_score': True,\n",
       " 'n_estimators': 2000,\n",
       " 'min_samples_leaf': 7,\n",
       " 'max_features': 1.0,\n",
       " 'warm_start': True,\n",
       " 'bootstrap': True,\n",
       " 'n_jobs': -1}"
      ]
     },
     "execution_count": 14,
     "metadata": {},
     "output_type": "execute_result"
    }
   ],
   "source": [
    "import copy\n",
    " \n",
    "param_dict = copy.deepcopy(pre_gs_inst.best_params_)\n",
    " \n",
    "param_dict['n_estimators'] = 2000\n",
    "param_dict['warm_start'] = True\n",
    "param_dict['bootstrap'] = True\n",
    "param_dict['n_jobs'] = -1\n",
    " \n",
    "param_dict"
   ]
  },
  {
   "cell_type": "code",
   "execution_count": 15,
   "metadata": {},
   "outputs": [
    {
     "data": {
      "text/plain": [
       "ExtraTreesRegressor(bootstrap=True, max_features=1.0, min_samples_leaf=7,\n",
       "                    n_estimators=2000, n_jobs=-1, oob_score=True,\n",
       "                    warm_start=True)"
      ]
     },
     "execution_count": 15,
     "metadata": {},
     "output_type": "execute_result"
    }
   ],
   "source": [
    "final_etr = ExtraTreesRegressor(**param_dict)\n",
    "final_etr.fit(preds_df.values, y_stack)"
   ]
  },
  {
   "cell_type": "code",
   "execution_count": 17,
   "metadata": {},
   "outputs": [],
   "source": [
    "def handle_X_set(X_train_set):\n",
    "    y_pred_bag = rs_bag.predict(X_train_set)\n",
    "    y_pred_gbt = gbt_inst.predict(X_train_set)\n",
    "    preds_df = pd.DataFrame(columns = ['bag', 'gbt'])\n",
    "\n",
    "    preds_df['bag'] = y_pred_bag\n",
    "    preds_df['gbt'] = y_pred_gbt\n",
    " \n",
    "    return preds_df.values\n",
    "\n",
    "def predict_from_X_set(X_train_set):\n",
    "    return final_etr.predict(handle_X_set(X_train_set)) \n",
    "\n",
    "y_pred = predict_from_X_set(X_test_prin)"
   ]
  },
  {
   "cell_type": "code",
   "execution_count": 19,
   "metadata": {},
   "outputs": [
    {
     "name": "stdout",
     "output_type": "stream",
     "text": [
      "R-squared 0.8523162732687882\n",
      "MAE :  0.29330243499661973\n",
      "MAPE :  0.1645783164258295\n"
     ]
    }
   ],
   "source": [
    "# It is possible to increase score by including the data columns alongside the stacker predictions\n",
    "from sklearn.metrics import r2_score, mean_absolute_error\n",
    "\n",
    "print(\"R-squared\",r2_score(y_test_prin, y_pred))\n",
    "print(\"MAE : \",mean_absolute_error(y_test_prin, y_pred))\n",
    "print(\"MAPE : \",(np.abs(y_test_prin- y_pred)/y_test_prin).mean())"
   ]
  }
 ],
 "metadata": {
  "anaconda-cloud": {},
  "kernelspec": {
   "display_name": "Python 3",
   "language": "python",
   "name": "python3"
  },
  "language_info": {
   "codemirror_mode": {
    "name": "ipython",
    "version": 3
   },
   "file_extension": ".py",
   "mimetype": "text/x-python",
   "name": "python",
   "nbconvert_exporter": "python",
   "pygments_lexer": "ipython3",
   "version": "3.8.5"
  }
 },
 "nbformat": 4,
 "nbformat_minor": 1
}
