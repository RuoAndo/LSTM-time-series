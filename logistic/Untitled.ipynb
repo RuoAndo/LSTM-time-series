{
 "cells": [
  {
   "cell_type": "code",
   "execution_count": 1,
   "metadata": {},
   "outputs": [
    {
     "name": "stdout",
     "output_type": "stream",
     "text": [
      "学習用データの精度：0.967\n",
      "テスト用データの精度：0.944\n"
     ]
    }
   ],
   "source": [
    "from sklearn.linear_model import LogisticRegression\n",
    "from sklearn.model_selection import train_test_split\n",
    "from sklearn.datasets import load_breast_cancer\n",
    "\n",
    "#データの読み込み\n",
    "cancer = load_breast_cancer()\n",
    "\n",
    "#学習用データとテスト用データに分割\n",
    "X_train, X_test, Y_train, Y_test = train_test_split(\n",
    "    cancer.data, cancer.target, stratify=cancer.target, random_state=10)\n",
    "\n",
    "# ロジスティック回帰\n",
    "clf = LogisticRegression(max_iter=10000, random_state=10) \n",
    "clf.fit(X_train, Y_train)\n",
    "\n",
    "#結果\n",
    "print(\"学習用データの精度：{:.3f}\".format(clf.score(X_train, Y_train)))\n",
    "print(\"テスト用データの精度：{:.3f}\".format(clf.score(X_test, Y_test)))"
   ]
  }
 ],
 "metadata": {
  "kernelspec": {
   "display_name": "Python 3",
   "language": "python",
   "name": "python3"
  },
  "language_info": {
   "codemirror_mode": {
    "name": "ipython",
    "version": 3
   },
   "file_extension": ".py",
   "mimetype": "text/x-python",
   "name": "python",
   "nbconvert_exporter": "python",
   "pygments_lexer": "ipython3",
   "version": "3.8.5"
  }
 },
 "nbformat": 4,
 "nbformat_minor": 4
}
