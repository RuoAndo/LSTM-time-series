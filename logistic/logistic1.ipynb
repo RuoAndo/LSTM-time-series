{
 "cells": [
  {
   "cell_type": "code",
   "execution_count": 1,
   "metadata": {},
   "outputs": [
    {
     "name": "stdout",
     "output_type": "stream",
     "text": [
      "学習用データの精度：0.967\n",
      "テスト用データの精度：0.944\n"
     ]
    }
   ],
   "source": [
    "from sklearn.linear_model import LogisticRegression\n",
    "from sklearn.model_selection import train_test_split\n",
    "from sklearn.datasets import load_breast_cancer\n",
    "\n",
    "#データの読み込み\n",
    "cancer = load_breast_cancer()\n",
    "\n",
    "#学習用データとテスト用データに分割\n",
    "X_train, X_test, Y_train, Y_test = train_test_split(\n",
    "    cancer.data, cancer.target, stratify=cancer.target, random_state=10)\n",
    "\n",
    "# ロジスティック回帰\n",
    "clf = LogisticRegression(max_iter=10000, random_state=10) \n",
    "clf.fit(X_train, Y_train)\n",
    "\n",
    "#結果\n",
    "print(\"学習用データの精度：{:.3f}\".format(clf.score(X_train, Y_train)))\n",
    "print(\"テスト用データの精度：{:.3f}\".format(clf.score(X_test, Y_test)))"
   ]
  },
  {
   "cell_type": "code",
   "execution_count": 18,
   "metadata": {},
   "outputs": [
    {
     "name": "stdout",
     "output_type": "stream",
     "text": [
      "['mean radius' 'mean texture' 'mean perimeter' 'mean area'\n",
      " 'mean smoothness' 'mean compactness' 'mean concavity'\n",
      " 'mean concave points' 'mean symmetry' 'mean fractal dimension'\n",
      " 'radius error' 'texture error' 'perimeter error' 'area error'\n",
      " 'smoothness error' 'compactness error' 'concavity error'\n",
      " 'concave points error' 'symmetry error' 'fractal dimension error'\n",
      " 'worst radius' 'worst texture' 'worst perimeter' 'worst area'\n",
      " 'worst smoothness' 'worst compactness' 'worst concavity'\n",
      " 'worst concave points' 'worst symmetry' 'worst fractal dimension']\n"
     ]
    }
   ],
   "source": [
    "print(cancer.feature_names)"
   ]
  },
  {
   "cell_type": "code",
   "execution_count": 19,
   "metadata": {},
   "outputs": [
    {
     "name": "stdout",
     "output_type": "stream",
     "text": [
      "[[ 1.18735277  0.10956117 -0.34424801  0.03058382 -0.13697868 -0.24420076\n",
      "  -0.47417791 -0.25823461 -0.16411383 -0.04076821 -0.10834608  0.98480834\n",
      "   0.51366471 -0.15573578 -0.01774663  0.00548093 -0.05640094 -0.032573\n",
      "  -0.03970233 -0.00146958  0.29506321 -0.38702693 -0.12196145 -0.01622899\n",
      "  -0.26743725 -0.60707092 -1.12130676 -0.48197736 -0.52267118 -0.09852384]]\n"
     ]
    }
   ],
   "source": [
    "print(clf.coef_)"
   ]
  },
  {
   "cell_type": "code",
   "execution_count": 20,
   "metadata": {},
   "outputs": [
    {
     "name": "stdout",
     "output_type": "stream",
     "text": [
      "[[ 1.18735277]\n",
      " [ 0.10956117]\n",
      " [-0.34424801]\n",
      " [ 0.03058382]\n",
      " [-0.13697868]\n",
      " [-0.24420076]\n",
      " [-0.47417791]\n",
      " [-0.25823461]\n",
      " [-0.16411383]\n",
      " [-0.04076821]\n",
      " [-0.10834608]\n",
      " [ 0.98480834]\n",
      " [ 0.51366471]\n",
      " [-0.15573578]\n",
      " [-0.01774663]\n",
      " [ 0.00548093]\n",
      " [-0.05640094]\n",
      " [-0.032573  ]\n",
      " [-0.03970233]\n",
      " [-0.00146958]\n",
      " [ 0.29506321]\n",
      " [-0.38702693]\n",
      " [-0.12196145]\n",
      " [-0.01622899]\n",
      " [-0.26743725]\n",
      " [-0.60707092]\n",
      " [-1.12130676]\n",
      " [-0.48197736]\n",
      " [-0.52267118]\n",
      " [-0.09852384]]\n"
     ]
    }
   ],
   "source": [
    "print(clf.coef_.reshape(30,-1))"
   ]
  },
  {
   "cell_type": "code",
   "execution_count": 3,
   "metadata": {},
   "outputs": [
    {
     "data": {
      "text/html": [
       "<div>\n",
       "<style scoped>\n",
       "    .dataframe tbody tr th:only-of-type {\n",
       "        vertical-align: middle;\n",
       "    }\n",
       "\n",
       "    .dataframe tbody tr th {\n",
       "        vertical-align: top;\n",
       "    }\n",
       "\n",
       "    .dataframe thead th {\n",
       "        text-align: right;\n",
       "    }\n",
       "</style>\n",
       "<table border=\"1\" class=\"dataframe\">\n",
       "  <thead>\n",
       "    <tr style=\"text-align: right;\">\n",
       "      <th></th>\n",
       "      <th>回帰係数</th>\n",
       "    </tr>\n",
       "  </thead>\n",
       "  <tbody>\n",
       "    <tr>\n",
       "      <th>mean radius</th>\n",
       "      <td>1.187353</td>\n",
       "    </tr>\n",
       "    <tr>\n",
       "      <th>mean texture</th>\n",
       "      <td>0.109561</td>\n",
       "    </tr>\n",
       "    <tr>\n",
       "      <th>mean perimeter</th>\n",
       "      <td>-0.344248</td>\n",
       "    </tr>\n",
       "    <tr>\n",
       "      <th>mean area</th>\n",
       "      <td>0.030584</td>\n",
       "    </tr>\n",
       "    <tr>\n",
       "      <th>mean smoothness</th>\n",
       "      <td>-0.136979</td>\n",
       "    </tr>\n",
       "    <tr>\n",
       "      <th>mean compactness</th>\n",
       "      <td>-0.244201</td>\n",
       "    </tr>\n",
       "    <tr>\n",
       "      <th>mean concavity</th>\n",
       "      <td>-0.474178</td>\n",
       "    </tr>\n",
       "    <tr>\n",
       "      <th>mean concave points</th>\n",
       "      <td>-0.258235</td>\n",
       "    </tr>\n",
       "    <tr>\n",
       "      <th>mean symmetry</th>\n",
       "      <td>-0.164114</td>\n",
       "    </tr>\n",
       "    <tr>\n",
       "      <th>mean fractal dimension</th>\n",
       "      <td>-0.040768</td>\n",
       "    </tr>\n",
       "    <tr>\n",
       "      <th>radius error</th>\n",
       "      <td>-0.108346</td>\n",
       "    </tr>\n",
       "    <tr>\n",
       "      <th>texture error</th>\n",
       "      <td>0.984808</td>\n",
       "    </tr>\n",
       "    <tr>\n",
       "      <th>perimeter error</th>\n",
       "      <td>0.513665</td>\n",
       "    </tr>\n",
       "    <tr>\n",
       "      <th>area error</th>\n",
       "      <td>-0.155736</td>\n",
       "    </tr>\n",
       "    <tr>\n",
       "      <th>smoothness error</th>\n",
       "      <td>-0.017747</td>\n",
       "    </tr>\n",
       "    <tr>\n",
       "      <th>compactness error</th>\n",
       "      <td>0.005481</td>\n",
       "    </tr>\n",
       "    <tr>\n",
       "      <th>concavity error</th>\n",
       "      <td>-0.056401</td>\n",
       "    </tr>\n",
       "    <tr>\n",
       "      <th>concave points error</th>\n",
       "      <td>-0.032573</td>\n",
       "    </tr>\n",
       "    <tr>\n",
       "      <th>symmetry error</th>\n",
       "      <td>-0.039702</td>\n",
       "    </tr>\n",
       "    <tr>\n",
       "      <th>fractal dimension error</th>\n",
       "      <td>-0.001470</td>\n",
       "    </tr>\n",
       "    <tr>\n",
       "      <th>worst radius</th>\n",
       "      <td>0.295063</td>\n",
       "    </tr>\n",
       "    <tr>\n",
       "      <th>worst texture</th>\n",
       "      <td>-0.387027</td>\n",
       "    </tr>\n",
       "    <tr>\n",
       "      <th>worst perimeter</th>\n",
       "      <td>-0.121961</td>\n",
       "    </tr>\n",
       "    <tr>\n",
       "      <th>worst area</th>\n",
       "      <td>-0.016229</td>\n",
       "    </tr>\n",
       "    <tr>\n",
       "      <th>worst smoothness</th>\n",
       "      <td>-0.267437</td>\n",
       "    </tr>\n",
       "    <tr>\n",
       "      <th>worst compactness</th>\n",
       "      <td>-0.607071</td>\n",
       "    </tr>\n",
       "    <tr>\n",
       "      <th>worst concavity</th>\n",
       "      <td>-1.121307</td>\n",
       "    </tr>\n",
       "    <tr>\n",
       "      <th>worst concave points</th>\n",
       "      <td>-0.481977</td>\n",
       "    </tr>\n",
       "    <tr>\n",
       "      <th>worst symmetry</th>\n",
       "      <td>-0.522671</td>\n",
       "    </tr>\n",
       "    <tr>\n",
       "      <th>worst fractal dimension</th>\n",
       "      <td>-0.098524</td>\n",
       "    </tr>\n",
       "    <tr>\n",
       "      <th>定数項</th>\n",
       "      <td>28.821705</td>\n",
       "    </tr>\n",
       "  </tbody>\n",
       "</table>\n",
       "</div>"
      ],
      "text/plain": [
       "                              回帰係数\n",
       "mean radius               1.187353\n",
       "mean texture              0.109561\n",
       "mean perimeter           -0.344248\n",
       "mean area                 0.030584\n",
       "mean smoothness          -0.136979\n",
       "mean compactness         -0.244201\n",
       "mean concavity           -0.474178\n",
       "mean concave points      -0.258235\n",
       "mean symmetry            -0.164114\n",
       "mean fractal dimension   -0.040768\n",
       "radius error             -0.108346\n",
       "texture error             0.984808\n",
       "perimeter error           0.513665\n",
       "area error               -0.155736\n",
       "smoothness error         -0.017747\n",
       "compactness error         0.005481\n",
       "concavity error          -0.056401\n",
       "concave points error     -0.032573\n",
       "symmetry error           -0.039702\n",
       "fractal dimension error  -0.001470\n",
       "worst radius              0.295063\n",
       "worst texture            -0.387027\n",
       "worst perimeter          -0.121961\n",
       "worst area               -0.016229\n",
       "worst smoothness         -0.267437\n",
       "worst compactness        -0.607071\n",
       "worst concavity          -1.121307\n",
       "worst concave points     -0.481977\n",
       "worst symmetry           -0.522671\n",
       "worst fractal dimension  -0.098524\n",
       "定数項                      28.821705"
      ]
     },
     "execution_count": 3,
     "metadata": {},
     "output_type": "execute_result"
    }
   ],
   "source": [
    "import pandas as pd\n",
    "\n",
    "#回帰係数を分かりやすいように表にする\n",
    "\n",
    "coef = pd.DataFrame(clf.coef_.reshape((30, -1)), cancer.feature_names, columns=[\"回帰係数\"])\n",
    "interce = pd.DataFrame([clf.intercept_], index=[\"定数項\"], columns=[\"回帰係数\"])\n",
    "df_coef = pd.concat([coef, interce])\n",
    "df_coef"
   ]
  },
  {
   "cell_type": "code",
   "execution_count": 11,
   "metadata": {},
   "outputs": [
    {
     "name": "stdout",
     "output_type": "stream",
     "text": [
      "['mean radius' 'mean texture' 'mean perimeter' 'mean area'\n",
      " 'mean smoothness' 'mean compactness' 'mean concavity'\n",
      " 'mean concave points' 'mean symmetry' 'mean fractal dimension'\n",
      " 'radius error' 'texture error' 'perimeter error' 'area error'\n",
      " 'smoothness error' 'compactness error' 'concavity error'\n",
      " 'concave points error' 'symmetry error' 'fractal dimension error'\n",
      " 'worst radius' 'worst texture' 'worst perimeter' 'worst area'\n",
      " 'worst smoothness' 'worst compactness' 'worst concavity'\n",
      " 'worst concave points' 'worst symmetry' 'worst fractal dimension']\n"
     ]
    }
   ],
   "source": [
    "print(cancer[\"feature_names\"])"
   ]
  },
  {
   "cell_type": "code",
   "execution_count": 12,
   "metadata": {},
   "outputs": [
    {
     "name": "stdout",
     "output_type": "stream",
     "text": [
      "['malignant' 'benign']\n"
     ]
    }
   ],
   "source": [
    "print(cancer[\"target_names\"])"
   ]
  },
  {
   "cell_type": "code",
   "execution_count": 17,
   "metadata": {},
   "outputs": [
    {
     "name": "stdout",
     "output_type": "stream",
     "text": [
      "[[2.031e+01 2.706e+01 1.329e+02 ... 1.697e-01 3.151e-01 7.999e-02]\n",
      " [1.176e+01 1.814e+01 7.500e+01 ... 7.160e-02 1.978e-01 6.915e-02]\n",
      " [1.760e+01 2.333e+01 1.190e+02 ... 1.996e-01 2.301e-01 1.224e-01]\n",
      " ...\n",
      " [1.125e+01 1.478e+01 7.138e+01 ... 1.667e-02 2.815e-01 7.418e-02]\n",
      " [1.193e+01 1.091e+01 7.614e+01 ... 6.876e-02 2.460e-01 7.262e-02]\n",
      " [1.071e+01 2.039e+01 6.950e+01 ... 8.600e-02 2.605e-01 8.701e-02]]\n"
     ]
    }
   ],
   "source": [
    "print(X_train)"
   ]
  },
  {
   "cell_type": "code",
   "execution_count": 23,
   "metadata": {},
   "outputs": [
    {
     "name": "stdout",
     "output_type": "stream",
     "text": [
      "[1 1 1 0 0 1 1 1 0 0 1 0 1 0 1 1 1 1 0 0 1 1 0 0 1 1 1 0 1 1 1 0 1 0 0 1 1\n",
      " 0 1 1 0 1 1 1 1 0 1 1 1 1 1 1 0 1 1 0 1 1 1 0 1 0 1 1 1 1 1 1 1 1 0 1 1 1\n",
      " 1 0 0 1 0 1 0 0 1 1 1 0 0 1 0 0 1 1 1 1 1 1 1 0 1 1 1 0 1 1 1 0 0 1 0 1 0\n",
      " 1 0 1 1 1 1 0 0 0 0 1 1 0 1 0 1 0 1 1 0 1 0 0 0 1 1 1 1 1 0 1 0]\n",
      "\n",
      "              precision    recall  f1-score   support\n",
      "\n",
      "           0       0.94      0.91      0.92        53\n",
      "           1       0.95      0.97      0.96        90\n",
      "\n",
      "    accuracy                           0.94       143\n",
      "   macro avg       0.94      0.94      0.94       143\n",
      "weighted avg       0.94      0.94      0.94       143\n",
      "\n",
      "0.9440559440559441\n"
     ]
    }
   ],
   "source": [
    "from sklearn.metrics import classification_report\n",
    "from sklearn.metrics import accuracy_score\n",
    "\n",
    "#Test the model\n",
    "predictions = clf.predict(X_test)\n",
    "print(predictions)# printing predictions\n",
    "\n",
    "print()# Printing new line\n",
    "\n",
    "#Check precision, recall, f1-score\n",
    "print( classification_report(Y_test, predictions) )\n",
    "\n",
    "print( accuracy_score(Y_test, predictions))"
   ]
  }
 ],
 "metadata": {
  "kernelspec": {
   "display_name": "Python 3",
   "language": "python",
   "name": "python3"
  },
  "language_info": {
   "codemirror_mode": {
    "name": "ipython",
    "version": 3
   },
   "file_extension": ".py",
   "mimetype": "text/x-python",
   "name": "python",
   "nbconvert_exporter": "python",
   "pygments_lexer": "ipython3",
   "version": "3.8.5"
  }
 },
 "nbformat": 4,
 "nbformat_minor": 4
}
