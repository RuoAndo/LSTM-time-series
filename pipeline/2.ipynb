{
 "cells": [
  {
   "cell_type": "code",
   "execution_count": 2,
   "metadata": {},
   "outputs": [
    {
     "name": "stdout",
     "output_type": "stream",
     "text": [
      "accuracy 93.33%\n"
     ]
    }
   ],
   "source": [
    "import matplotlib.pyplot as plt\n",
    "import sklearn.datasets\n",
    "import sklearn.ensemble\n",
    "import sklearn.model_selection\n",
    "\n",
    "# データの用意\n",
    "iris = sklearn.datasets.load_iris()\n",
    "features = iris.data[:, [0, 2]]\n",
    "\n",
    "train_x, test_x, train_y, test_y = sklearn.model_selection.train_test_split(features, iris.target, test_size=0.3)\n",
    "\n",
    "# 学習\n",
    "rf = sklearn.ensemble.RandomForestClassifier()\n",
    "rf.fit(train_x, train_y)\n",
    "\n",
    "\n",
    "# 評価\n",
    "accuracy = rf.score(test_x, test_y)\n",
    "print('accuracy {0:.2%}'.format(accuracy))\n",
    "\n",
    "# 結果のプロット\n",
    "# prediction = rf.predict(test_x)\n",
    "\n",
    "# plt.scatter(*test_x.T, c=[['orange', 'green', 'blue'][answer] if answer == predict else 'red' for answer, predict in zip(test_y, prediction)])\n",
    "# plt.show()"
   ]
  }
 ],
 "metadata": {
  "kernelspec": {
   "display_name": "Python 3",
   "language": "python",
   "name": "python3"
  },
  "language_info": {
   "codemirror_mode": {
    "name": "ipython",
    "version": 3
   },
   "file_extension": ".py",
   "mimetype": "text/x-python",
   "name": "python",
   "nbconvert_exporter": "python",
   "pygments_lexer": "ipython3",
   "version": "3.8.5"
  }
 },
 "nbformat": 4,
 "nbformat_minor": 4
}
